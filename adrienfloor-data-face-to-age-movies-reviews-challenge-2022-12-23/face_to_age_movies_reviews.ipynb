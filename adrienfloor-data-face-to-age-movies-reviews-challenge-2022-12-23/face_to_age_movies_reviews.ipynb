{
 "cells": [
  {
   "cell_type": "markdown",
   "metadata": {},
   "source": [
    "# Deep Learning challenge"
   ]
  },
  {
   "cell_type": "markdown",
   "metadata": {},
   "source": [
    "This challenge is split into 2 independent parts:\n",
    "1. CNN challenge - Face to Age\n",
    "2. RNN challenge - Sentiment Analysis of Movies Reviews"
   ]
  },
  {
   "cell_type": "markdown",
   "metadata": {
    "id": "WCk2YEqBhdP2"
   },
   "source": [
    "## 1. CNN challenge - Face to Age"
   ]
  },
  {
   "cell_type": "markdown",
   "metadata": {
    "id": "JBXc4442fJZV"
   },
   "source": [
    "### Objectives\n",
    "-  Visualize images\n",
    "-  Preprocess images for Neural Networks\n",
    "-  Fit a custom CNN for a regression task\n",
    "-  Fine-tune an analyse model performance"
   ]
  },
  {
   "cell_type": "markdown",
   "metadata": {
    "id": "gv76LFXjqzau"
   },
   "source": [
    "### 1.1 Visualize images"
   ]
  },
  {
   "cell_type": "markdown",
   "metadata": {},
   "source": [
    "**👉 Load the dataset (200 Mo)**"
   ]
  },
  {
   "cell_type": "code",
   "execution_count": 120,
   "metadata": {},
   "outputs": [],
   "source": [
    "import pandas as pd\n",
    "import matplotlib.pyplot as plt\n",
    "import numpy as np\n",
    "import seaborn as sns"
   ]
  },
  {
   "cell_type": "code",
   "execution_count": 121,
   "metadata": {
    "ExecuteTime": {
     "end_time": "2021-09-10T13:30:08.917089Z",
     "start_time": "2021-09-10T13:30:01.851323Z"
    },
    "executionInfo": {
     "elapsed": 10102,
     "status": "ok",
     "timestamp": 1615229794824,
     "user": {
      "displayName": "Bruno Lajoie",
      "photoUrl": "https://lh3.googleusercontent.com/a-/AOh14Gg0dl6gThG8gOPbCvHbgt62zQnsi8cgbQ7C5HkD_Cg=s64",
      "userId": "15793030209206844069"
     },
     "user_tz": -60
    },
    "id": "2tZUrTCepyPs"
   },
   "outputs": [
    {
     "data": {
      "text/html": [
       "<div>\n",
       "<style scoped>\n",
       "    .dataframe tbody tr th:only-of-type {\n",
       "        vertical-align: middle;\n",
       "    }\n",
       "\n",
       "    .dataframe tbody tr th {\n",
       "        vertical-align: top;\n",
       "    }\n",
       "\n",
       "    .dataframe thead th {\n",
       "        text-align: right;\n",
       "    }\n",
       "</style>\n",
       "<table border=\"1\" class=\"dataframe\">\n",
       "  <thead>\n",
       "    <tr style=\"text-align: right;\">\n",
       "      <th></th>\n",
       "      <th>age</th>\n",
       "      <th>pixels</th>\n",
       "    </tr>\n",
       "  </thead>\n",
       "  <tbody>\n",
       "    <tr>\n",
       "      <th>0</th>\n",
       "      <td>45</td>\n",
       "      <td>200 168 96 107 123 132 132 135 135 134 134 137...</td>\n",
       "    </tr>\n",
       "    <tr>\n",
       "      <th>1</th>\n",
       "      <td>1</td>\n",
       "      <td>223 226 231 234 236 238 238 240 240 240 240 23...</td>\n",
       "    </tr>\n",
       "    <tr>\n",
       "      <th>2</th>\n",
       "      <td>35</td>\n",
       "      <td>23 29 24 29 47 71 110 141 166 169 169 174 179 ...</td>\n",
       "    </tr>\n",
       "    <tr>\n",
       "      <th>3</th>\n",
       "      <td>28</td>\n",
       "      <td>9 6 11 12 30 65 82 37 47 16 27 26 32 74 141 16...</td>\n",
       "    </tr>\n",
       "    <tr>\n",
       "      <th>4</th>\n",
       "      <td>24</td>\n",
       "      <td>67 66 63 59 61 62 60 66 83 103 139 173 192 194...</td>\n",
       "    </tr>\n",
       "    <tr>\n",
       "      <th>...</th>\n",
       "      <td>...</td>\n",
       "      <td>...</td>\n",
       "    </tr>\n",
       "    <tr>\n",
       "      <th>23700</th>\n",
       "      <td>35</td>\n",
       "      <td>48 47 52 66 78 89 96 104 117 127 139 142 149 1...</td>\n",
       "    </tr>\n",
       "    <tr>\n",
       "      <th>23701</th>\n",
       "      <td>55</td>\n",
       "      <td>101 107 110 114 118 120 127 129 132 137 139 14...</td>\n",
       "    </tr>\n",
       "    <tr>\n",
       "      <th>23702</th>\n",
       "      <td>28</td>\n",
       "      <td>161 134 113 114 98 93 92 90 82 58 23 45 85 105...</td>\n",
       "    </tr>\n",
       "    <tr>\n",
       "      <th>23703</th>\n",
       "      <td>3</td>\n",
       "      <td>65 82 84 129 141 116 43 46 54 71 58 60 64 66 7...</td>\n",
       "    </tr>\n",
       "    <tr>\n",
       "      <th>23704</th>\n",
       "      <td>2</td>\n",
       "      <td>31 40 50 54 66 79 84 100 118 136 150 159 165 1...</td>\n",
       "    </tr>\n",
       "  </tbody>\n",
       "</table>\n",
       "<p>23705 rows × 2 columns</p>\n",
       "</div>"
      ],
      "text/plain": [
       "       age                                             pixels\n",
       "0       45  200 168 96 107 123 132 132 135 135 134 134 137...\n",
       "1        1  223 226 231 234 236 238 238 240 240 240 240 23...\n",
       "2       35  23 29 24 29 47 71 110 141 166 169 169 174 179 ...\n",
       "3       28  9 6 11 12 30 65 82 37 47 16 27 26 32 74 141 16...\n",
       "4       24  67 66 63 59 61 62 60 66 83 103 139 173 192 194...\n",
       "...    ...                                                ...\n",
       "23700   35  48 47 52 66 78 89 96 104 117 127 139 142 149 1...\n",
       "23701   55  101 107 110 114 118 120 127 129 132 137 139 14...\n",
       "23702   28  161 134 113 114 98 93 92 90 82 58 23 45 85 105...\n",
       "23703    3  65 82 84 129 141 116 43 46 54 71 58 60 64 66 7...\n",
       "23704    2  31 40 50 54 66 79 84 100 118 136 150 159 165 1...\n",
       "\n",
       "[23705 rows x 2 columns]"
      ]
     },
     "execution_count": 121,
     "metadata": {},
     "output_type": "execute_result"
    }
   ],
   "source": [
    "data = pd.read_csv(\"https://wagon-public-datasets.s3.amazonaws.com/certification/face_to_age/images.csv\")\n",
    "data = data.sample(frac=1, random_state=0).reset_index(drop=True)\n",
    "data"
   ]
  },
  {
   "cell_type": "markdown",
   "metadata": {},
   "source": [
    "Each row represent the image of a face in black and white\n",
    "- `age` is the age in year\n",
    "- `pixels` contains the 2304 (= 48 * 48) flatten values of each pixel in the image, in a black scale from 0 to 255, stored as string"
   ]
  },
  {
   "cell_type": "markdown",
   "metadata": {},
   "source": [
    "**❓ Plot the histogram of age in your dataset.**"
   ]
  },
  {
   "cell_type": "code",
   "execution_count": 122,
   "metadata": {
    "ExecuteTime": {
     "end_time": "2021-09-10T13:30:09.163219Z",
     "start_time": "2021-09-10T13:30:08.919754Z"
    },
    "tags": [
     "challengify"
    ]
   },
   "outputs": [
    {
     "data": {
      "image/png": "[encoded data removed]",
      "text/plain": [
       "<Figure size 640x480 with 1 Axes>"
      ]
     },
     "metadata": {},
     "output_type": "display_data"
    }
   ],
   "source": [
    "sns.histplot(data.age);"
   ]
  },
  {
   "cell_type": "markdown",
   "metadata": {
    "id": "JQ1ew-IAwUNL"
   },
   "source": [
    "**❓ Visually display one image of your choice.**"
   ]
  },
  {
   "cell_type": "code",
   "execution_count": 123,
   "metadata": {
    "ExecuteTime": {
     "end_time": "2021-09-10T13:30:09.760329Z",
     "start_time": "2021-09-10T13:30:09.641448Z"
    },
    "colab": {
     "base_uri": "https://localhost:8080/",
     "height": 284
    },
    "executionInfo": {
     "elapsed": 594,
     "status": "ok",
     "timestamp": 1615229800246,
     "user": {
      "displayName": "Bruno Lajoie",
      "photoUrl": "https://lh3.googleusercontent.com/a-/AOh14Gg0dl6gThG8gOPbCvHbgt62zQnsi8cgbQ7C5HkD_Cg=s64",
      "userId": "15793030209206844069"
     },
     "user_tz": -60
    },
    "id": "q9dLVirWwMoE",
    "outputId": "cd8b8794-35ff-4405-cef7-15909a03b846",
    "tags": [
     "challengify"
    ]
   },
   "outputs": [
    {
     "data": {
      "image/png": "[encoded data removed]",
      "text/plain": [
       "<Figure size 640x480 with 1 Axes>"
      ]
     },
     "metadata": {},
     "output_type": "display_data"
    }
   ],
   "source": [
    "# YOUR CODE HERE\n",
    "images = data['pixels']\n",
    "pixels = images[5].split(' ')\n",
    "int_pixels = []\n",
    "int_pixels = [int(pixel) for pixel in pixels]\n",
    "img_with_shape = np.array(int_pixels).reshape((48,48))\n",
    "    \n",
    "plt.imshow(img_with_shape, cmap=plt.cm.gray);"
   ]
  },
  {
   "cell_type": "markdown",
   "metadata": {},
   "source": [
    "**❓ What is the physical characteristic of the image at _index_ `60`?**\n",
    "\n",
    "- Store in the 3 boolean variables `smile`/`glasses`/`hat` the values `True` if the person smiles/wears glasses/has a hat, `False` else."
   ]
  },
  {
   "cell_type": "code",
   "execution_count": 124,
   "metadata": {
    "ExecuteTime": {
     "end_time": "2021-09-10T13:30:37.216365Z",
     "start_time": "2021-09-10T13:30:37.111539Z"
    },
    "tags": [
     "challengify"
    ]
   },
   "outputs": [
    {
     "data": {
      "image/png": "[encoded data removed]",
      "text/plain": [
       "<Figure size 640x480 with 1 Axes>"
      ]
     },
     "metadata": {},
     "output_type": "display_data"
    }
   ],
   "source": [
    "# YOUR CODE HERE\n",
    "images = data['pixels']\n",
    "pixels = images[60].split(' ')\n",
    "int_pixels = []\n",
    "int_pixels = [int(pixel) for pixel in pixels]\n",
    "img_with_shape = np.array(int_pixels).reshape((48,48))\n",
    "    \n",
    "plt.imshow(img_with_shape, cmap=plt.cm.gray);"
   ]
  },
  {
   "cell_type": "code",
   "execution_count": 125,
   "metadata": {
    "ExecuteTime": {
     "end_time": "2021-09-10T13:30:37.745669Z",
     "start_time": "2021-09-10T13:30:37.741222Z"
    }
   },
   "outputs": [],
   "source": [
    "# Store your result in the variable below\n",
    "\n",
    "smile = True\n",
    "glasses = False\n",
    "hat = False"
   ]
  },
  {
   "cell_type": "markdown",
   "metadata": {},
   "source": [
    "#### 💾 Save your results\n",
    "\n",
    "Run the cell below to save your results."
   ]
  },
  {
   "cell_type": "code",
   "execution_count": 126,
   "metadata": {
    "ExecuteTime": {
     "end_time": "2021-09-10T13:30:41.151566Z",
     "start_time": "2021-09-10T13:30:41.145642Z"
    }
   },
   "outputs": [],
   "source": [
    "from nbresult import ChallengeResult\n",
    "result = ChallengeResult('images_visualization',\n",
    "                         smile=smile,\n",
    "                         glasses=glasses,\n",
    "                         hat=hat)\n",
    "result.write()"
   ]
  },
  {
   "cell_type": "markdown",
   "metadata": {
    "id": "AjeMU0GTwFSe"
   },
   "source": [
    "### 1.2 Processing"
   ]
  },
  {
   "cell_type": "markdown",
   "metadata": {},
   "source": [
    "**❓ Your goal is to train a convolutional neural network model to predict the _age_ of a person based solely on a picture of his/her face.**\n",
    "- Create your **feature matrix** `X` as `ndarray` scaled between 0 and 1\n",
    "- Create your **target vector** `y` as `ndarray`\n",
    "- Create your holdout sets: 4 variables (`X_train`, `y_train`) and (`X_test`, `y_test`) keeping the **first** `70%` as the train set\n",
    "- `X` and `y` shapes should fit a CNN (`model.fit(X,y)`)\n",
    "\n",
    "😌 Don't worry, you will be given the solution in the next question in case you don't make it"
   ]
  },
  {
   "cell_type": "code",
   "execution_count": 127,
   "metadata": {
    "ExecuteTime": {
     "end_time": "2021-09-10T13:30:55.386164Z",
     "start_time": "2021-09-10T13:30:48.860705Z"
    },
    "executionInfo": {
     "elapsed": 7742,
     "status": "ok",
     "timestamp": 1615229809890,
     "user": {
      "displayName": "Bruno Lajoie",
      "photoUrl": "https://lh3.googleusercontent.com/a-/AOh14Gg0dl6gThG8gOPbCvHbgt62zQnsi8cgbQ7C5HkD_Cg=s64",
      "userId": "15793030209206844069"
     },
     "user_tz": -60
    },
    "id": "2MUSTFTFrp0V",
    "tags": [
     "challengify"
    ]
   },
   "outputs": [
    {
     "data": {
      "text/plain": [
       "array([[[[0.78431373],\n",
       "         [0.65882353],\n",
       "         [0.37647059],\n",
       "         ...,\n",
       "         [0.76470588],\n",
       "         [0.75686275],\n",
       "         [0.75686275]],\n",
       "\n",
       "        [[0.76862745],\n",
       "         [0.60392157],\n",
       "         [0.34509804],\n",
       "         ...,\n",
       "         [0.75686275],\n",
       "         [0.75686275],\n",
       "         [0.75686275]],\n",
       "\n",
       "        [[0.74509804],\n",
       "         [0.52941176],\n",
       "         [0.3372549 ],\n",
       "         ...,\n",
       "         [0.75294118],\n",
       "         [0.75686275],\n",
       "         [0.75686275]],\n",
       "\n",
       "        ...,\n",
       "\n",
       "        [[0.76078431],\n",
       "         [0.77647059],\n",
       "         [0.76862745],\n",
       "         ...,\n",
       "         [0.40392157],\n",
       "         [0.4       ],\n",
       "         [0.41176471]],\n",
       "\n",
       "        [[0.78039216],\n",
       "         [0.78431373],\n",
       "         [0.79215686],\n",
       "         ...,\n",
       "         [0.4       ],\n",
       "         [0.40784314],\n",
       "         [0.41176471]],\n",
       "\n",
       "        [[0.78431373],\n",
       "         [0.78431373],\n",
       "         [0.77254902],\n",
       "         ...,\n",
       "         [0.39607843],\n",
       "         [0.40392157],\n",
       "         [0.40784314]]],\n",
       "\n",
       "\n",
       "       [[[0.8745098 ],\n",
       "         [0.88627451],\n",
       "         [0.90588235],\n",
       "         ...,\n",
       "         [0.8627451 ],\n",
       "         [0.        ],\n",
       "         [0.        ]],\n",
       "\n",
       "        [[0.88235294],\n",
       "         [0.89019608],\n",
       "         [0.90588235],\n",
       "         ...,\n",
       "         [0.87058824],\n",
       "         [0.        ],\n",
       "         [0.        ]],\n",
       "\n",
       "        [[0.88235294],\n",
       "         [0.89019608],\n",
       "         [0.89803922],\n",
       "         ...,\n",
       "         [0.86666667],\n",
       "         [0.        ],\n",
       "         [0.        ]],\n",
       "\n",
       "        ...,\n",
       "\n",
       "        [[0.87843137],\n",
       "         [0.87058824],\n",
       "         [0.9372549 ],\n",
       "         ...,\n",
       "         [0.00392157],\n",
       "         [0.        ],\n",
       "         [0.        ]],\n",
       "\n",
       "        [[0.94901961],\n",
       "         [0.96078431],\n",
       "         [0.95686275],\n",
       "         ...,\n",
       "         [0.        ],\n",
       "         [0.        ],\n",
       "         [0.        ]],\n",
       "\n",
       "        [[0.56862745],\n",
       "         [0.56862745],\n",
       "         [0.56862745],\n",
       "         ...,\n",
       "         [0.        ],\n",
       "         [0.        ],\n",
       "         [0.        ]]],\n",
       "\n",
       "\n",
       "       [[[0.09019608],\n",
       "         [0.11372549],\n",
       "         [0.09411765],\n",
       "         ...,\n",
       "         [0.10980392],\n",
       "         [0.09803922],\n",
       "         [0.10196078]],\n",
       "\n",
       "        [[0.09803922],\n",
       "         [0.10588235],\n",
       "         [0.09019608],\n",
       "         ...,\n",
       "         [0.10980392],\n",
       "         [0.09803922],\n",
       "         [0.13333333]],\n",
       "\n",
       "        [[0.11372549],\n",
       "         [0.11372549],\n",
       "         [0.10588235],\n",
       "         ...,\n",
       "         [0.10588235],\n",
       "         [0.09411765],\n",
       "         [0.10196078]],\n",
       "\n",
       "        ...,\n",
       "\n",
       "        [[0.88627451],\n",
       "         [0.90588235],\n",
       "         [0.94117647],\n",
       "         ...,\n",
       "         [0.90196078],\n",
       "         [0.90980392],\n",
       "         [0.91372549]],\n",
       "\n",
       "        [[0.92156863],\n",
       "         [0.8745098 ],\n",
       "         [0.61960784],\n",
       "         ...,\n",
       "         [0.82745098],\n",
       "         [0.90980392],\n",
       "         [0.89019608]],\n",
       "\n",
       "        [[0.64705882],\n",
       "         [0.45098039],\n",
       "         [0.15294118],\n",
       "         ...,\n",
       "         [0.19607843],\n",
       "         [0.76470588],\n",
       "         [0.93333333]]],\n",
       "\n",
       "\n",
       "       ...,\n",
       "\n",
       "\n",
       "       [[[0.63137255],\n",
       "         [0.5254902 ],\n",
       "         [0.44313725],\n",
       "         ...,\n",
       "         [0.27058824],\n",
       "         [0.21176471],\n",
       "         [0.14509804]],\n",
       "\n",
       "        [[0.61960784],\n",
       "         [0.43529412],\n",
       "         [0.36862745],\n",
       "         ...,\n",
       "         [0.28627451],\n",
       "         [0.21568627],\n",
       "         [0.14901961]],\n",
       "\n",
       "        [[0.54509804],\n",
       "         [0.34117647],\n",
       "         [0.29803922],\n",
       "         ...,\n",
       "         [0.31764706],\n",
       "         [0.22745098],\n",
       "         [0.16078431]],\n",
       "\n",
       "        ...,\n",
       "\n",
       "        [[0.78823529],\n",
       "         [0.78823529],\n",
       "         [0.78823529],\n",
       "         ...,\n",
       "         [0.51372549],\n",
       "         [0.50980392],\n",
       "         [0.49019608]],\n",
       "\n",
       "        [[0.78431373],\n",
       "         [0.78823529],\n",
       "         [0.78823529],\n",
       "         ...,\n",
       "         [0.54117647],\n",
       "         [0.52941176],\n",
       "         [0.50588235]],\n",
       "\n",
       "        [[0.78823529],\n",
       "         [0.79215686],\n",
       "         [0.79607843],\n",
       "         ...,\n",
       "         [0.54509804],\n",
       "         [0.5372549 ],\n",
       "         [0.54117647]]],\n",
       "\n",
       "\n",
       "       [[[0.25490196],\n",
       "         [0.32156863],\n",
       "         [0.32941176],\n",
       "         ...,\n",
       "         [0.33333333],\n",
       "         [0.2745098 ],\n",
       "         [0.22745098]],\n",
       "\n",
       "        [[0.2745098 ],\n",
       "         [0.45490196],\n",
       "         [0.46666667],\n",
       "         ...,\n",
       "         [0.4       ],\n",
       "         [0.33333333],\n",
       "         [0.2627451 ]],\n",
       "\n",
       "        [[0.22745098],\n",
       "         [0.16862745],\n",
       "         [0.29411765],\n",
       "         ...,\n",
       "         [0.45098039],\n",
       "         [0.38039216],\n",
       "         [0.30588235]],\n",
       "\n",
       "        ...,\n",
       "\n",
       "        [[0.01176471],\n",
       "         [0.48235294],\n",
       "         [0.50980392],\n",
       "         ...,\n",
       "         [0.29803922],\n",
       "         [0.30980392],\n",
       "         [0.28627451]],\n",
       "\n",
       "        [[0.00392157],\n",
       "         [0.44313725],\n",
       "         [0.49411765],\n",
       "         ...,\n",
       "         [0.25098039],\n",
       "         [0.2745098 ],\n",
       "         [0.3254902 ]],\n",
       "\n",
       "        [[0.02745098],\n",
       "         [0.43137255],\n",
       "         [0.50196078],\n",
       "         ...,\n",
       "         [0.27058824],\n",
       "         [0.3254902 ],\n",
       "         [0.36078431]]],\n",
       "\n",
       "\n",
       "       [[[0.12156863],\n",
       "         [0.15686275],\n",
       "         [0.19607843],\n",
       "         ...,\n",
       "         [0.50196078],\n",
       "         [0.40392157],\n",
       "         [0.32941176]],\n",
       "\n",
       "        [[0.12941176],\n",
       "         [0.17647059],\n",
       "         [0.20392157],\n",
       "         ...,\n",
       "         [0.55294118],\n",
       "         [0.47058824],\n",
       "         [0.43529412]],\n",
       "\n",
       "        [[0.1372549 ],\n",
       "         [0.18431373],\n",
       "         [0.21568627],\n",
       "         ...,\n",
       "         [0.58039216],\n",
       "         [0.53333333],\n",
       "         [0.50196078]],\n",
       "\n",
       "        ...,\n",
       "\n",
       "        [[0.58039216],\n",
       "         [0.58039216],\n",
       "         [0.57647059],\n",
       "         ...,\n",
       "         [0.56078431],\n",
       "         [0.47058824],\n",
       "         [0.40784314]],\n",
       "\n",
       "        [[0.68235294],\n",
       "         [0.68235294],\n",
       "         [0.64705882],\n",
       "         ...,\n",
       "         [0.57254902],\n",
       "         [0.50196078],\n",
       "         [0.45490196]],\n",
       "\n",
       "        [[0.75686275],\n",
       "         [0.74509804],\n",
       "         [0.71764706],\n",
       "         ...,\n",
       "         [0.68235294],\n",
       "         [0.51764706],\n",
       "         [0.45098039]]]])"
      ]
     },
     "execution_count": 127,
     "metadata": {},
     "output_type": "execute_result"
    }
   ],
   "source": [
    "# YOUR CODE HERE\n",
    "\n",
    "# Let's check out the shape of our data to see how many images we have\n",
    "data.shape\n",
    "\n",
    "# Let's use a copy of it as a good practice\n",
    "data_copy = data.copy()\n",
    "\n",
    "# Let's reshape the images\n",
    "X = []\n",
    "for index in range(data_copy.shape[0]):\n",
    "    img = data_copy.loc[index, 'pixels']\n",
    "    img = [int(pixel) for pixel in img.split(' ')]\n",
    "    img_shaped = np.array(img).reshape((48, 48))\n",
    "    X.append(img_shaped)\n",
    "\n",
    "X = np.array(X) # transform to ndarray\n",
    "X = X / 255 # \"black scale from 0 to 255\"\n",
    "X = X.reshape((data_copy.shape[0], 48, 48, 1)) # \"2304 (= 48 * 48) flatten values of each pixel in the image\"\n",
    "X"
   ]
  },
  {
   "cell_type": "code",
   "execution_count": 128,
   "metadata": {},
   "outputs": [
    {
     "data": {
      "text/plain": [
       "array([45,  1, 35, ..., 28,  3,  2])"
      ]
     },
     "execution_count": 128,
     "metadata": {},
     "output_type": "execute_result"
    }
   ],
   "source": [
    "# Let's create our target as ndarray\n",
    "y = np.array(data_copy['age'])\n",
    "y"
   ]
  },
  {
   "cell_type": "code",
   "execution_count": 129,
   "metadata": {},
   "outputs": [],
   "source": [
    "from sklearn.model_selection import train_test_split\n",
    "\n",
    "# Let's create our holdout sets\n",
    "X_train, X_test, y_train, y_test = train_test_split(X, y, test_size=0.3, random_state=42)"
   ]
  },
  {
   "cell_type": "code",
   "execution_count": 130,
   "metadata": {},
   "outputs": [
    {
     "name": "stdout",
     "output_type": "stream",
     "text": [
      "Shape of our X_train and y_train : ((16593, 48, 48, 1), (16593,))\n",
      "\n",
      "Shape of our X_test and y_test : ((7112, 48, 48, 1), (7112,))\n"
     ]
    }
   ],
   "source": [
    "# Let's checkout our sets shapes\n",
    "print(f'Shape of our X_train and y_train : {X_train.shape, y_train.shape}')\n",
    "print('')\n",
    "print(f'Shape of our X_test and y_test : {X_test.shape, y_test.shape}')"
   ]
  },
  {
   "cell_type": "markdown",
   "metadata": {},
   "source": [
    "#### 💾 Save your results\n",
    "\n",
    "Run the cell below to save your results."
   ]
  },
  {
   "cell_type": "code",
   "execution_count": 131,
   "metadata": {
    "ExecuteTime": {
     "end_time": "2021-09-10T13:31:00.999738Z",
     "start_time": "2021-09-10T13:31:00.991932Z"
    }
   },
   "outputs": [],
   "source": [
    "from nbresult import ChallengeResult\n",
    "result = ChallengeResult('images_processing', \n",
    "                         X_train_shape = X_train.shape,\n",
    "                         y_train_shape = y_train.shape,\n",
    "                         first_image = X_train[0]\n",
    "                        )\n",
    "result.write()"
   ]
  },
  {
   "cell_type": "markdown",
   "metadata": {
    "id": "3bSHDYC8OlrL"
   },
   "source": [
    "### 1.3 Modeling the age of a face"
   ]
  },
  {
   "cell_type": "markdown",
   "metadata": {},
   "source": [
    "👉 **Only if you haven't managed to create your training sets above**, you can start back from the solution by running the cell below \n",
    "- ⚠️ This will download ~500Mo of `.pickle` files on your current working directory\n",
    "- Then it will load them into 4 ndarrays in memory, and it should delete initial .pickles from your disk"
   ]
  },
  {
   "cell_type": "code",
   "execution_count": 222,
   "metadata": {
    "ExecuteTime": {
     "end_time": "2021-09-10T13:31:12.589361Z",
     "start_time": "2021-09-10T13:31:12.573480Z"
    }
   },
   "outputs": [],
   "source": [
    "import pickle\n",
    "\n",
    "def download_solutions():\n",
    "    file_names = [\"images_X_train.pickle\", \"images_X_test.pickle\", \"images_y_train.pickle\", \"images_y_test.pickle\"]\n",
    "    base_url = \"https://wagon-public-datasets.s3.amazonaws.com/certification/face_to_age/\"\n",
    "    pickles = dict()\n",
    "\n",
    "    for file_name in file_names:\n",
    "        url = f\"{base_url + file_name}\"\n",
    "        file_path = f\"data/images/{file_name}\"\n",
    "        command = f\"curl --output {file_path} {url}\"\n",
    "        ! eval {command}\n",
    "        with open(file_path, 'rb') as handle:\n",
    "            pickles[file_name] = pickle.load(handle)\n",
    "        command = f\"rm {file_path}\"\n",
    "        ! eval {command}\n",
    "        \n",
    "    return pickles\n",
    "\n",
    "# UNCOMMENT THIS LINE BELOW TO GET THE CORRECTION IF NEEDED\n",
    "# X_train, X_test, y_train, y_test = download_solutions().values()"
   ]
  },
  {
   "cell_type": "markdown",
   "metadata": {},
   "source": [
    "❓ **Before training a complex model, evaluate your baseline score**\n",
    "- We will use the mean absolute error in this challenge\n",
    "- Compute the baseline score on your test set in the \"naive\" case where you always predict mean age\n",
    "- Store the result under `score_baseline`"
   ]
  },
  {
   "cell_type": "code",
   "execution_count": 132,
   "metadata": {},
   "outputs": [
    {
     "data": {
      "text/plain": [
       "15.35424887620832"
      ]
     },
     "execution_count": 132,
     "metadata": {},
     "output_type": "execute_result"
    }
   ],
   "source": [
    "    from sklearn.metrics import mean_absolute_error\n",
    "\n",
    "    mean_age = np.mean(y_train)\n",
    "\n",
    "    y_pred = np.full(len(y_test), mean_age)\n",
    "\n",
    "    score_baseline = mean_absolute_error(y_test, y_pred)\n",
    "    score_baseline"
   ]
  },
  {
   "cell_type": "markdown",
   "metadata": {},
   "source": [
    "❓ **Build and fit a convolutional neural network**\n",
    "\n",
    "- Name it `model`\n",
    "- Store output of `.fit()` in a variable `history`\n",
    "- Do not use transfer learning\n",
    "- Make sure your model does not overfit with appropriate control techniques\n",
    "\n",
    "💡 Manage wisely your training time. You should obtain significantly better performance than the baseline in less than 5 minutes with average processor and no graphic cards. "
   ]
  },
  {
   "cell_type": "code",
   "execution_count": 133,
   "metadata": {
    "ExecuteTime": {
     "end_time": "2021-09-10T13:31:29.232178Z",
     "start_time": "2021-09-10T13:31:29.163506Z"
    },
    "colab": {
     "base_uri": "https://localhost:8080/"
    },
    "executionInfo": {
     "elapsed": 427,
     "status": "ok",
     "timestamp": 1615231554099,
     "user": {
      "displayName": "Bruno Lajoie",
      "photoUrl": "https://lh3.googleusercontent.com/a-/AOh14Gg0dl6gThG8gOPbCvHbgt62zQnsi8cgbQ7C5HkD_Cg=s64",
      "userId": "15793030209206844069"
     },
     "user_tz": -60
    },
    "id": "o-vaYNoXTQPS",
    "outputId": "4fe2b570-77a5-4f38-daa7-ff1f5f1fac02",
    "scrolled": false,
    "tags": [
     "challengify"
    ]
   },
   "outputs": [
    {
     "name": "stdout",
     "output_type": "stream",
     "text": [
      "Model: \"sequential_2\"\n",
      "_________________________________________________________________\n",
      " Layer (type)                Output Shape              Param #   \n",
      "=================================================================\n",
      " conv2d_4 (Conv2D)           (None, 46, 46, 20)        200       \n",
      "                                                                 \n",
      " max_pooling2d_4 (MaxPooling  (None, 23, 23, 20)       0         \n",
      " 2D)                                                             \n",
      "                                                                 \n",
      " conv2d_5 (Conv2D)           (None, 21, 21, 10)        1810      \n",
      "                                                                 \n",
      " max_pooling2d_5 (MaxPooling  (None, 10, 10, 10)       0         \n",
      " 2D)                                                             \n",
      "                                                                 \n",
      " flatten_2 (Flatten)         (None, 1000)              0         \n",
      "                                                                 \n",
      " dense_4 (Dense)             (None, 8)                 8008      \n",
      "                                                                 \n",
      " dense_5 (Dense)             (None, 1)                 9         \n",
      "                                                                 \n",
      "=================================================================\n",
      "Total params: 10,027\n",
      "Trainable params: 10,027\n",
      "Non-trainable params: 0\n",
      "_________________________________________________________________\n"
     ]
    }
   ],
   "source": [
    "from tensorflow.keras import models, layers\n",
    "from tensorflow.keras.metrics import mean_absolute_error\n",
    "# YOUR CODE HERE\n",
    "\n",
    "model = models.Sequential()\n",
    "\n",
    "model.add(layers.Conv2D(20, kernel_size=(3, 3), input_shape=(48, 48, 1), activation='relu'))\n",
    "model.add(layers.MaxPool2D((2, 2)))\n",
    "\n",
    "model.add(layers.Conv2D(10, kernel_size=(3, 3), activation='relu'))\n",
    "model.add(layers.MaxPool2D((2, 2)))\n",
    "\n",
    "model.add(layers.Flatten())\n",
    "model.add(layers.Dense(8, activation='relu'))\n",
    "model.add(layers.Dense(1, activation='linear'))\n",
    "\n",
    "model.compile(loss='mse', optimizer='adam', metrics=['mae'])\n",
    "model.summary()"
   ]
  },
  {
   "cell_type": "code",
   "execution_count": 134,
   "metadata": {},
   "outputs": [
    {
     "name": "stdout",
     "output_type": "stream",
     "text": [
      "Epoch 1/25\n",
      "415/415 [==============================] - 3s 6ms/step - loss: 483.9599 - mae: 16.8982 - val_loss: 383.9106 - val_mae: 15.5142\n",
      "Epoch 2/25\n",
      "415/415 [==============================] - 2s 6ms/step - loss: 367.6942 - mae: 14.8803 - val_loss: 346.7051 - val_mae: 14.0968\n",
      "Epoch 3/25\n",
      "415/415 [==============================] - 2s 6ms/step - loss: 327.2534 - mae: 13.9814 - val_loss: 306.3661 - val_mae: 14.0929\n",
      "Epoch 4/25\n",
      "415/415 [==============================] - 3s 6ms/step - loss: 267.1147 - mae: 12.6223 - val_loss: 235.4925 - val_mae: 11.8366\n",
      "Epoch 5/25\n",
      "415/415 [==============================] - 2s 6ms/step - loss: 236.7328 - mae: 11.7822 - val_loss: 224.2766 - val_mae: 11.6589\n",
      "Epoch 6/25\n",
      "415/415 [==============================] - 2s 6ms/step - loss: 228.1252 - mae: 11.4807 - val_loss: 227.4986 - val_mae: 11.0763\n",
      "Epoch 7/25\n",
      "415/415 [==============================] - 2s 6ms/step - loss: 214.8694 - mae: 11.0845 - val_loss: 217.0234 - val_mae: 11.5333\n",
      "Epoch 8/25\n",
      "415/415 [==============================] - 2s 6ms/step - loss: 207.8751 - mae: 10.8665 - val_loss: 196.2997 - val_mae: 10.6755\n",
      "Epoch 9/25\n",
      "415/415 [==============================] - 2s 6ms/step - loss: 204.6198 - mae: 10.7459 - val_loss: 190.9283 - val_mae: 10.4676\n",
      "Epoch 10/25\n",
      "415/415 [==============================] - 2s 6ms/step - loss: 201.6286 - mae: 10.6842 - val_loss: 199.9913 - val_mae: 10.9674\n",
      "Epoch 11/25\n",
      "415/415 [==============================] - 3s 6ms/step - loss: 195.6420 - mae: 10.4969 - val_loss: 184.4044 - val_mae: 10.3208\n",
      "Epoch 12/25\n",
      "415/415 [==============================] - 3s 6ms/step - loss: 191.1710 - mae: 10.3758 - val_loss: 203.1376 - val_mae: 11.0852\n",
      "Epoch 13/25\n",
      "415/415 [==============================] - 3s 6ms/step - loss: 189.5165 - mae: 10.2926 - val_loss: 176.9738 - val_mae: 9.9061\n",
      "Epoch 14/25\n",
      "415/415 [==============================] - 3s 6ms/step - loss: 184.3458 - mae: 10.1670 - val_loss: 172.6723 - val_mae: 9.8558\n",
      "Epoch 15/25\n",
      "415/415 [==============================] - 3s 6ms/step - loss: 180.3270 - mae: 10.0515 - val_loss: 172.0387 - val_mae: 9.9362\n",
      "Epoch 16/25\n",
      "415/415 [==============================] - 3s 6ms/step - loss: 178.3847 - mae: 9.9864 - val_loss: 166.5298 - val_mae: 9.6919\n",
      "Epoch 17/25\n",
      "415/415 [==============================] - 3s 6ms/step - loss: 175.3860 - mae: 9.9069 - val_loss: 165.2614 - val_mae: 9.6879\n",
      "Epoch 18/25\n",
      "415/415 [==============================] - 3s 6ms/step - loss: 170.0244 - mae: 9.7362 - val_loss: 194.4545 - val_mae: 10.0543\n",
      "Epoch 19/25\n",
      "415/415 [==============================] - 3s 6ms/step - loss: 168.3683 - mae: 9.6411 - val_loss: 159.9251 - val_mae: 9.3560\n",
      "Epoch 20/25\n",
      "415/415 [==============================] - 3s 6ms/step - loss: 164.7317 - mae: 9.5272 - val_loss: 162.1105 - val_mae: 9.7273\n",
      "Epoch 21/25\n",
      "415/415 [==============================] - 2s 6ms/step - loss: 165.7294 - mae: 9.5813 - val_loss: 160.6713 - val_mae: 9.5335\n",
      "Epoch 22/25\n",
      "415/415 [==============================] - 2s 6ms/step - loss: 160.1738 - mae: 9.4088 - val_loss: 155.7971 - val_mae: 9.1830\n",
      "Epoch 23/25\n",
      "415/415 [==============================] - 2s 6ms/step - loss: 154.7014 - mae: 9.2135 - val_loss: 159.4651 - val_mae: 9.6003\n",
      "Epoch 24/25\n",
      "415/415 [==============================] - 2s 6ms/step - loss: 155.3008 - mae: 9.2467 - val_loss: 150.3678 - val_mae: 9.0830\n",
      "Epoch 25/25\n",
      "415/415 [==============================] - 2s 6ms/step - loss: 150.3927 - mae: 9.0976 - val_loss: 158.9218 - val_mae: 9.5512\n"
     ]
    }
   ],
   "source": [
    "from tensorflow.keras.callbacks import EarlyStopping\n",
    "es = EarlyStopping(patience = 4, restore_best_weights=True)\n",
    "history = model.fit(\n",
    "    X_train, y_train,\n",
    "    epochs = 25,\n",
    "    batch_size = 32,\n",
    "    validation_split = 0.2,\n",
    "    callbacks=[es]\n",
    ")"
   ]
  },
  {
   "cell_type": "code",
   "execution_count": 135,
   "metadata": {},
   "outputs": [
    {
     "data": {
      "text/plain": [
       "{'loss': [483.9599304199219,\n",
       "  367.6941833496094,\n",
       "  327.25335693359375,\n",
       "  267.11474609375,\n",
       "  236.73277282714844,\n",
       "  228.12521362304688,\n",
       "  214.8694305419922,\n",
       "  207.8750762939453,\n",
       "  204.6197509765625,\n",
       "  201.62855529785156,\n",
       "  195.6420440673828,\n",
       "  191.1709747314453,\n",
       "  189.51646423339844,\n",
       "  184.34580993652344,\n",
       "  180.32701110839844,\n",
       "  178.38473510742188,\n",
       "  175.38600158691406,\n",
       "  170.0243682861328,\n",
       "  168.36827087402344,\n",
       "  164.731689453125,\n",
       "  165.72940063476562,\n",
       "  160.1737823486328,\n",
       "  154.70135498046875,\n",
       "  155.30078125,\n",
       "  150.39266967773438],\n",
       " 'mae': [16.898223876953125,\n",
       "  14.880274772644043,\n",
       "  13.98136043548584,\n",
       "  12.622292518615723,\n",
       "  11.782158851623535,\n",
       "  11.480731010437012,\n",
       "  11.084500312805176,\n",
       "  10.866544723510742,\n",
       "  10.745863914489746,\n",
       "  10.684223175048828,\n",
       "  10.496891975402832,\n",
       "  10.375829696655273,\n",
       "  10.292618751525879,\n",
       "  10.167043685913086,\n",
       "  10.05148696899414,\n",
       "  9.98643684387207,\n",
       "  9.906854629516602,\n",
       "  9.736197471618652,\n",
       "  9.641080856323242,\n",
       "  9.527203559875488,\n",
       "  9.581347465515137,\n",
       "  9.408803939819336,\n",
       "  9.213478088378906,\n",
       "  9.246668815612793,\n",
       "  9.097574234008789],\n",
       " 'val_loss': [383.9105529785156,\n",
       "  346.70513916015625,\n",
       "  306.3661193847656,\n",
       "  235.49253845214844,\n",
       "  224.27655029296875,\n",
       "  227.4985809326172,\n",
       "  217.02340698242188,\n",
       "  196.2996826171875,\n",
       "  190.92825317382812,\n",
       "  199.99131774902344,\n",
       "  184.40443420410156,\n",
       "  203.13763427734375,\n",
       "  176.9738311767578,\n",
       "  172.6723175048828,\n",
       "  172.03871154785156,\n",
       "  166.52984619140625,\n",
       "  165.26144409179688,\n",
       "  194.45448303222656,\n",
       "  159.9251251220703,\n",
       "  162.11045837402344,\n",
       "  160.6712646484375,\n",
       "  155.797119140625,\n",
       "  159.46514892578125,\n",
       "  150.36781311035156,\n",
       "  158.92181396484375],\n",
       " 'val_mae': [15.51424789428711,\n",
       "  14.096827507019043,\n",
       "  14.092909812927246,\n",
       "  11.836634635925293,\n",
       "  11.658909797668457,\n",
       "  11.076330184936523,\n",
       "  11.533326148986816,\n",
       "  10.67550277709961,\n",
       "  10.46755313873291,\n",
       "  10.967432975769043,\n",
       "  10.320812225341797,\n",
       "  11.085171699523926,\n",
       "  9.906068801879883,\n",
       "  9.855842590332031,\n",
       "  9.936243057250977,\n",
       "  9.691900253295898,\n",
       "  9.687850952148438,\n",
       "  10.054325103759766,\n",
       "  9.355978965759277,\n",
       "  9.72726821899414,\n",
       "  9.533452987670898,\n",
       "  9.183049201965332,\n",
       "  9.600255966186523,\n",
       "  9.082990646362305,\n",
       "  9.551199913024902]}"
      ]
     },
     "execution_count": 135,
     "metadata": {},
     "output_type": "execute_result"
    }
   ],
   "source": [
    "history.history"
   ]
  },
  {
   "cell_type": "markdown",
   "metadata": {},
   "source": [
    "❓ **Plot your training and validation MAE at each epoch using the cell below**"
   ]
  },
  {
   "cell_type": "code",
   "execution_count": 136,
   "metadata": {
    "ExecuteTime": {
     "end_time": "2021-09-10T13:38:13.987857Z",
     "start_time": "2021-09-10T13:38:13.959791Z"
    }
   },
   "outputs": [
    {
     "data": {
      "image/png": "[encoded data removed]",
      "text/plain": [
       "<Figure size 640x480 with 1 Axes>"
      ]
     },
     "metadata": {},
     "output_type": "display_data"
    }
   ],
   "source": [
    "# Plot below your train/val loss history\n",
    "# YOUR CODE HERE\n",
    "def plot_loss(history):\n",
    "    \n",
    "    train_loss = history.history['loss']\n",
    "    val_loss = history.history['val_loss']\n",
    "\n",
    "    plt.plot(train_loss, label='Training LOSS')\n",
    "    plt.plot(val_loss, label='Validation LOSS')\n",
    "    plt.xlabel('Epoch')\n",
    "    plt.ylabel('LOSS')\n",
    "    plt.legend()\n",
    "    \n",
    "### YOUR CODE HERE\n",
    "\n",
    "plot_loss(history)\n",
    "\n",
    "# Run also this code to save figure as jpg in path below (it's your job to ensure it works)\n",
    "fig = plt.gcf()\n",
    "fig.savefig(\"tests/history_loss.png\");"
   ]
  },
  {
   "cell_type": "code",
   "execution_count": 137,
   "metadata": {},
   "outputs": [
    {
     "data": {
      "image/png": "[encoded data removed]",
      "text/plain": [
       "<Figure size 640x480 with 1 Axes>"
      ]
     },
     "metadata": {},
     "output_type": "display_data"
    }
   ],
   "source": [
    "# Plot below your train/val MAE history\n",
    "# YOUR CODE HERE\n",
    "def plot_mae(history):\n",
    "    train_mae = history.history['mae']\n",
    "    val_mae = history.history['val_mae']\n",
    "\n",
    "    plt.plot(train_mae, label='Training MAE')\n",
    "    plt.plot(val_mae, label='Validation MAE')\n",
    "    plt.xlabel('Epoch')\n",
    "    plt.ylabel('MAE')\n",
    "    plt.legend()\n",
    "    \n",
    "### YOUR CODE HERE\n",
    "\n",
    "plot_mae(history)\n",
    "\n",
    "# Run also this code to save figure as jpg in path below (it's your job to ensure it works)\n",
    "fig = plt.gcf()\n",
    "fig.savefig(\"tests/history_mae.png\");"
   ]
  },
  {
   "cell_type": "markdown",
   "metadata": {},
   "source": [
    "❓ **Evaluate your performances on test set**\n",
    "- Store your test score as `score_test`"
   ]
  },
  {
   "cell_type": "code",
   "execution_count": 138,
   "metadata": {
    "ExecuteTime": {
     "end_time": "2021-09-10T13:39:01.322864Z",
     "start_time": "2021-09-10T13:38:59.648669Z"
    },
    "colab": {
     "base_uri": "https://localhost:8080/"
    },
    "executionInfo": {
     "elapsed": 1032,
     "status": "ok",
     "timestamp": 1615231968574,
     "user": {
      "displayName": "Bruno Lajoie",
      "photoUrl": "https://lh3.googleusercontent.com/a-/AOh14Gg0dl6gThG8gOPbCvHbgt62zQnsi8cgbQ7C5HkD_Cg=s64",
      "userId": "15793030209206844069"
     },
     "user_tz": -60
    },
    "id": "RQMpEc4ITdne",
    "outputId": "9a0a5643-6652-4a68-aa86-cd671733ca17",
    "scrolled": true,
    "tags": [
     "challengify"
    ]
   },
   "outputs": [
    {
     "name": "stdout",
     "output_type": "stream",
     "text": [
      "223/223 [==============================] - 0s 2ms/step - loss: 161.8631 - mae: 9.5165\n"
     ]
    },
    {
     "data": {
      "text/plain": [
       "9.516498565673828"
      ]
     },
     "execution_count": 138,
     "metadata": {},
     "output_type": "execute_result"
    }
   ],
   "source": [
    "# YOUR CODE HERE\n",
    "score_test = model.evaluate(X_test, y_test)[1]\n",
    "score_test"
   ]
  },
  {
   "cell_type": "markdown",
   "metadata": {},
   "source": [
    "#### 💾 Save your results\n",
    "\n",
    "Run the cell below to save your results."
   ]
  },
  {
   "cell_type": "code",
   "execution_count": 139,
   "metadata": {
    "ExecuteTime": {
     "end_time": "2021-09-10T13:39:03.545406Z",
     "start_time": "2021-09-10T13:39:03.533292Z"
    }
   },
   "outputs": [],
   "source": [
    "from nbresult import ChallengeResult\n",
    "import tensorflow as tf\n",
    "\n",
    "result = ChallengeResult(\n",
    "    \"cnn\",\n",
    "    input_shape = list(model.input.shape),\n",
    "    output_shape = list(model.output.shape),\n",
    "    layer_names = [layer.name for layer in model.layers],\n",
    "    trainable_params = sum([tf.size(w_matrix).numpy() for w_matrix in model.trainable_variables]),\n",
    "    score_baseline = score_baseline,\n",
    "    score_test = score_test,\n",
    ")\n",
    "result.write()"
   ]
  },
  {
   "cell_type": "markdown",
   "metadata": {},
   "source": [
    "## 2. RNN challenge - Binary Sentiment Analysis of French Movie Reviews"
   ]
  },
  {
   "cell_type": "markdown",
   "metadata": {},
   "source": [
    "### 2.1 Data Preparation (given)"
   ]
  },
  {
   "cell_type": "markdown",
   "metadata": {},
   "source": [
    "Our dataset contains 30,000 french reviews of movies, along with the binary class 1 (positive) or 0 (negative) score"
   ]
  },
  {
   "cell_type": "code",
   "execution_count": 140,
   "metadata": {
    "ExecuteTime": {
     "end_time": "2021-09-10T12:39:58.235963Z",
     "start_time": "2021-09-10T12:39:57.296350Z"
    },
    "executionInfo": {
     "elapsed": 8472,
     "status": "ok",
     "timestamp": 1615382505157,
     "user": {
      "displayName": "Bruno Lajoie",
      "photoUrl": "https://lh3.googleusercontent.com/a-/AOh14Gg0dl6gThG8gOPbCvHbgt62zQnsi8cgbQ7C5HkD_Cg=s64",
      "userId": "15793030209206844069"
     },
     "user_tz": -60
    },
    "id": "IufC0UUhxyGC"
   },
   "outputs": [
    {
     "data": {
      "text/html": [
       "<div>\n",
       "<style scoped>\n",
       "    .dataframe tbody tr th:only-of-type {\n",
       "        vertical-align: middle;\n",
       "    }\n",
       "\n",
       "    .dataframe tbody tr th {\n",
       "        vertical-align: top;\n",
       "    }\n",
       "\n",
       "    .dataframe thead th {\n",
       "        text-align: right;\n",
       "    }\n",
       "</style>\n",
       "<table border=\"1\" class=\"dataframe\">\n",
       "  <thead>\n",
       "    <tr style=\"text-align: right;\">\n",
       "      <th></th>\n",
       "      <th>review</th>\n",
       "      <th>polarity</th>\n",
       "    </tr>\n",
       "  </thead>\n",
       "  <tbody>\n",
       "    <tr>\n",
       "      <th>0</th>\n",
       "      <td>Ça commence à devenir énervant d'avoir l'impre...</td>\n",
       "      <td>0</td>\n",
       "    </tr>\n",
       "    <tr>\n",
       "      <th>1</th>\n",
       "      <td>J'ai aimé ce film, si il ressemble a un docume...</td>\n",
       "      <td>1</td>\n",
       "    </tr>\n",
       "    <tr>\n",
       "      <th>2</th>\n",
       "      <td>Une grosse merde ce haneke ce faire produire p...</td>\n",
       "      <td>0</td>\n",
       "    </tr>\n",
       "    <tr>\n",
       "      <th>3</th>\n",
       "      <td>Beau mélodrame magnifiquement photographié, \"V...</td>\n",
       "      <td>1</td>\n",
       "    </tr>\n",
       "    <tr>\n",
       "      <th>4</th>\n",
       "      <td>A la poursuite du diamant vers est un film pro...</td>\n",
       "      <td>1</td>\n",
       "    </tr>\n",
       "  </tbody>\n",
       "</table>\n",
       "</div>"
      ],
      "text/plain": [
       "                                              review  polarity\n",
       "0  Ça commence à devenir énervant d'avoir l'impre...         0\n",
       "1  J'ai aimé ce film, si il ressemble a un docume...         1\n",
       "2  Une grosse merde ce haneke ce faire produire p...         0\n",
       "3  Beau mélodrame magnifiquement photographié, \"V...         1\n",
       "4  A la poursuite du diamant vers est un film pro...         1"
      ]
     },
     "execution_count": 140,
     "metadata": {},
     "output_type": "execute_result"
    }
   ],
   "source": [
    "# We load the dataset for you\n",
    "data = pd.read_csv('https://wagon-public-datasets.s3.amazonaws.com/certification/movies_reviews/movies_reviews.csv')\n",
    "data.head()"
   ]
  },
  {
   "cell_type": "code",
   "execution_count": 141,
   "metadata": {
    "ExecuteTime": {
     "end_time": "2021-09-10T12:32:01.034441Z",
     "start_time": "2021-09-10T12:32:00.966761Z"
    },
    "executionInfo": {
     "elapsed": 8472,
     "status": "ok",
     "timestamp": 1615382505157,
     "user": {
      "displayName": "Bruno Lajoie",
      "photoUrl": "https://lh3.googleusercontent.com/a-/AOh14Gg0dl6gThG8gOPbCvHbgt62zQnsi8cgbQ7C5HkD_Cg=s64",
      "userId": "15793030209206844069"
     },
     "user_tz": -60
    },
    "id": "IufC0UUhxyGC"
   },
   "outputs": [
    {
     "name": "stdout",
     "output_type": "stream",
     "text": [
      "1    15051\n",
      "0    14900\n",
      "Name: polarity, dtype: int64\n"
     ]
    }
   ],
   "source": [
    "# We create features\n",
    "y = data.polarity\n",
    "X = data.review\n",
    "\n",
    "# We analyse class balance\n",
    "print(pd.value_counts(y))"
   ]
  },
  {
   "cell_type": "code",
   "execution_count": 142,
   "metadata": {
    "ExecuteTime": {
     "end_time": "2021-09-10T12:32:15.223683Z",
     "start_time": "2021-09-10T12:32:15.218429Z"
    },
    "executionInfo": {
     "elapsed": 544,
     "status": "ok",
     "timestamp": 1615383356787,
     "user": {
      "displayName": "Bruno Lajoie",
      "photoUrl": "https://lh3.googleusercontent.com/a-/AOh14Gg0dl6gThG8gOPbCvHbgt62zQnsi8cgbQ7C5HkD_Cg=s64",
      "userId": "15793030209206844069"
     },
     "user_tz": -60
    },
    "id": "yzIpNmSg0XV4"
   },
   "outputs": [
    {
     "name": "stdout",
     "output_type": "stream",
     "text": [
      "polarity: 0 \n",
      "\n",
      "Ça commence à devenir énervant d'avoir l'impression de voir et revoir le même genre de film à savoir : la comédie romantique, surement le genre le plus prolifique de le production française actuelle. Le problème c'est que l'on a souvent affaire à des niaiseries de faible niveau comme celui ci. Avec un scenario ultra balisé et conventionnel, c'est à se demander comment ça peut passer les portes d'un producteur. Bref cette sempiternel histoire d'un homme mentant au nom de l'amour pour reconquérir une femme et qui à la fin se prend son mensonge en pleine figure est d'une originalité affligeante, et ce n'est pas la présence au casting de l'ex miss météo Charlotte Le Bon qui rêve surement d'avoir la même carrière que Louise Bourgoin qui change la donne.\n"
     ]
    }
   ],
   "source": [
    "# We check the first review\n",
    "print(f'polarity: {y[0]} \\n')\n",
    "print(X[0])"
   ]
  },
  {
   "cell_type": "markdown",
   "metadata": {},
   "source": [
    "#### Text Cleaning"
   ]
  },
  {
   "cell_type": "markdown",
   "metadata": {},
   "source": [
    "We performed the following data cleaning for you:\n",
    "- We replaced french accents by their non-accentuated equivalent\n",
    "- We reduced all uppercases to lowercases\n",
    "- We removed any characters outside of a-z\n",
    "\n",
    "Below you can visualize the cleaned dataset:"
   ]
  },
  {
   "cell_type": "code",
   "execution_count": 143,
   "metadata": {
    "ExecuteTime": {
     "end_time": "2021-09-10T12:40:03.296296Z",
     "start_time": "2021-09-10T12:40:02.507020Z"
    }
   },
   "outputs": [
    {
     "data": {
      "text/plain": [
       "'ca commence a devenir enervant de voir et revoir le meme genre de film a savoir la comedie romantique surement le genre le plus prolifique de le production francaise actuelle le probleme que a souvent affaire a des niaiseries de faible niveau comme celui ci avec un scenario ultra balise et conventionnel a se demander comment ca peut passer les portes producteur bref cette sempiternel histoire homme mentant au nom de pour reconquerir une femme et qui a la fin se prend son mensonge en pleine figure est originalite affligeante et ce pas la presence au casting de miss meteo charlotte le bon qui reve surement la meme carriere que louise bourgoin qui change la donne'"
      ]
     },
     "execution_count": 143,
     "metadata": {},
     "output_type": "execute_result"
    }
   ],
   "source": [
    "X_clean = pd.read_csv(\"https://wagon-public-datasets.s3.amazonaws.com/certification/movies_reviews/movies_reviews_clean.csv\")['review']\n",
    "X_clean[0]"
   ]
  },
  {
   "cell_type": "markdown",
   "metadata": {},
   "source": [
    "#### Text preprocessing"
   ]
  },
  {
   "cell_type": "markdown",
   "metadata": {},
   "source": [
    "Then we performed the following preprocessing for you:\n",
    "- We converted each review into a list of integers, each integer representing a _unique_ word from the corpus\n",
    "\n",
    "- We padded every sequences with a maximum length of 100, replacing missing words by `0` at the end\n",
    "\n",
    "- For example, the sentence: `\"this was good\"` is converted into something like `array([1, 3, 18, 0, 0, 0, ...0], dtype=int32)` \n",
    "\n",
    "Below you can visualize the preprocessed dataset:"
   ]
  },
  {
   "cell_type": "code",
   "execution_count": 144,
   "metadata": {},
   "outputs": [
    {
     "name": "stdout",
     "output_type": "stream",
     "text": [
      "  % Total    % Received % Xferd  Average Speed   Time    Time     Time  Current\n",
      "                                 Dload  Upload   Total   Spent    Left  Speed\n",
      "100 71.4M  100 71.4M    0     0  60.4M      0  0:00:01  0:00:01 --:--:-- 60.7M\n"
     ]
    }
   ],
   "source": [
    "!curl 'https://wagon-public-datasets.s3.amazonaws.com/certification/movies_reviews/movies_reviews_preproc.csv' --output \"data/movies_reviews_preproc.csv\""
   ]
  },
  {
   "cell_type": "code",
   "execution_count": 145,
   "metadata": {
    "ExecuteTime": {
     "end_time": "2021-09-10T12:53:52.146876Z",
     "start_time": "2021-09-10T12:53:49.328435Z"
    }
   },
   "outputs": [
    {
     "name": "stdout",
     "output_type": "stream",
     "text": [
      "(29951, 100)\n"
     ]
    },
    {
     "data": {
      "text/plain": [
       "array([15, 16, 17, 18, 10, 12, 10, 19, 20,  6, 10, 21, 22, 23, 10, 24, 25,\n",
       "        3, 26, 27,  3, 28, 29,  6, 30, 31, 32, 33, 34, 35, 36, 37, 38, 39,\n",
       "        8, 40,  3, 41, 42, 43,  1, 44, 45, 46, 47, 48, 49, 50, 51, 52, 53,\n",
       "       54, 55, 56,  6, 57, 58, 59, 60,  8, 61,  3, 15, 62, 41, 63, 64, 65,\n",
       "       66, 67, 68, 69, 70, 71,  8, 72, 73, 15, 74, 55, 75,  6, 76, 77, 78,\n",
       "       10, 79, 61, 80, 18, 15, 11, 81, 25, 82, 83, 61, 84, 15, 85],\n",
       "      dtype=int32)"
      ]
     },
     "execution_count": 145,
     "metadata": {},
     "output_type": "execute_result"
    }
   ],
   "source": [
    "X_preproc = np.genfromtxt(\"data/movies_reviews_preproc.csv\", delimiter=',', dtype='int32')\n",
    "print(X_preproc.shape)\n",
    "X_preproc[0]"
   ]
  },
  {
   "cell_type": "markdown",
   "metadata": {},
   "source": [
    "Here is the dictionary used to translate words into integers:"
   ]
  },
  {
   "cell_type": "code",
   "execution_count": 146,
   "metadata": {
    "ExecuteTime": {
     "end_time": "2021-09-10T12:42:28.639487Z",
     "start_time": "2021-09-10T12:42:28.139498Z"
    }
   },
   "outputs": [
    {
     "name": "stdout",
     "output_type": "stream",
     "text": [
      "  % Total    % Received % Xferd  Average Speed   Time    Time     Time  Current\n",
      "                                 Dload  Upload   Total   Spent    Left  Speed\n",
      "100  848k  100  848k    0     0  2844k      0 --:--:-- --:--:-- --:--:-- 2885k\n"
     ]
    },
    {
     "data": {
      "text/plain": [
       "{'ca': 1,\n",
       " 'commence': 2,\n",
       " 'a': 3,\n",
       " 'devenir': 4,\n",
       " 'enervant': 5,\n",
       " 'de': 6,\n",
       " 'voir': 7,\n",
       " 'et': 8,\n",
       " 'revoir': 9,\n",
       " 'le': 10,\n",
       " 'meme': 11,\n",
       " 'genre': 12,\n",
       " 'film': 13,\n",
       " 'savoir': 14,\n",
       " 'la': 15,\n",
       " 'comedie': 16,\n",
       " 'romantique': 17,\n",
       " 'surement': 18,\n",
       " 'plus': 19,\n",
       " 'prolifique': 20,\n",
       " 'production': 21,\n",
       " 'francaise': 22,\n",
       " 'actuelle': 23,\n",
       " 'probleme': 24,\n",
       " 'que': 25,\n",
       " 'souvent': 26,\n",
       " 'affaire': 27,\n",
       " 'des': 28,\n",
       " 'niaiseries': 29,\n",
       " 'faible': 30,\n",
       " 'niveau': 31,\n",
       " 'comme': 32,\n",
       " 'celui': 33,\n",
       " 'ci': 34,\n",
       " 'avec': 35,\n",
       " 'un': 36,\n",
       " 'scenario': 37,\n",
       " 'ultra': 38,\n",
       " 'balise': 39,\n",
       " 'conventionnel': 40,\n",
       " 'se': 41,\n",
       " 'demander': 42,\n",
       " 'comment': 43,\n",
       " 'peut': 44,\n",
       " 'passer': 45,\n",
       " 'les': 46,\n",
       " 'portes': 47,\n",
       " 'producteur': 48,\n",
       " 'bref': 49,\n",
       " 'cette': 50,\n",
       " 'sempiternel': 51,\n",
       " 'histoire': 52,\n",
       " 'homme': 53,\n",
       " 'mentant': 54,\n",
       " 'au': 55,\n",
       " 'nom': 56,\n",
       " 'pour': 57,\n",
       " 'reconquerir': 58,\n",
       " 'une': 59,\n",
       " 'femme': 60,\n",
       " 'qui': 61,\n",
       " 'fin': 62,\n",
       " 'prend': 63,\n",
       " 'son': 64,\n",
       " 'mensonge': 65,\n",
       " 'en': 66,\n",
       " 'pleine': 67,\n",
       " 'figure': 68,\n",
       " 'est': 69,\n",
       " 'originalite': 70,\n",
       " 'affligeante': 71,\n",
       " 'ce': 72,\n",
       " 'pas': 73,\n",
       " 'presence': 74,\n",
       " 'casting': 75,\n",
       " 'miss': 76,\n",
       " 'meteo': 77,\n",
       " 'charlotte': 78,\n",
       " 'bon': 79,\n",
       " 'reve': 80,\n",
       " 'carriere': 81,\n",
       " 'louise': 82,\n",
       " 'bourgoin': 83,\n",
       " 'change': 84,\n",
       " 'donne': 85,\n",
       " 'aime': 86,\n",
       " 'si': 87,\n",
       " 'il': 88,\n",
       " 'ressemble': 89,\n",
       " 'documentaire': 90,\n",
       " 'voit': 91,\n",
       " 'tete': 92,\n",
       " 'pendant': 93,\n",
       " 'je': 94,\n",
       " 'me': 95,\n",
       " 'demandais': 96,\n",
       " 'vont': 97,\n",
       " 'leur': 98,\n",
       " 'arriver': 99,\n",
       " 'par': 100,\n",
       " 'suite': 101,\n",
       " 'grosse': 102,\n",
       " 'merde': 103,\n",
       " 'haneke': 104,\n",
       " 'faire': 105,\n",
       " 'produire': 106,\n",
       " 'francais': 107,\n",
       " 'pares': 108,\n",
       " 'dire': 109,\n",
       " 'non': 110,\n",
       " 'aux': 111,\n",
       " 'cesar': 112,\n",
       " 'parce': 113,\n",
       " 'moins': 114,\n",
       " 'classe': 115,\n",
       " 'oscars': 116,\n",
       " 'comprends': 117,\n",
       " 'cesars': 118,\n",
       " 'vraiment': 119,\n",
       " 'du': 120,\n",
       " 'cirque': 121,\n",
       " 'mais': 122,\n",
       " 'attitude': 123,\n",
       " 'bien': 124,\n",
       " 'elitiste': 125,\n",
       " 'ces': 126,\n",
       " 'films': 127,\n",
       " 'beau': 128,\n",
       " 'melodrame': 129,\n",
       " 'magnifiquement': 130,\n",
       " 'photographie': 131,\n",
       " 'veronika': 132,\n",
       " 'voss': 133,\n",
       " 'aussi': 134,\n",
       " 'bel': 135,\n",
       " 'hommage': 136,\n",
       " 'billy': 137,\n",
       " 'wilder': 138,\n",
       " 'sunset': 139,\n",
       " 'boulevard': 140,\n",
       " 'frappe': 141,\n",
       " 'toujours': 142,\n",
       " 'ans': 143,\n",
       " 'apres': 144,\n",
       " 'sa': 145,\n",
       " 'realisation': 146,\n",
       " 'beaute': 147,\n",
       " 'mise': 148,\n",
       " 'scene': 149,\n",
       " 'fassbinder': 150,\n",
       " 'mouvements': 151,\n",
       " 'camera': 152,\n",
       " 'propos': 153,\n",
       " 'direction': 154,\n",
       " 'grande': 155,\n",
       " 'precision': 156,\n",
       " 'encore': 157,\n",
       " 'fois': 158,\n",
       " 'talent': 159,\n",
       " 'proteiforme': 160,\n",
       " 'cineaste': 161,\n",
       " 'dans': 162,\n",
       " 'veine': 163,\n",
       " 'melodramatique': 164,\n",
       " 'priori': 165,\n",
       " 'eloignee': 166,\n",
       " 'creatif': 167,\n",
       " 'ses': 168,\n",
       " 'premieres': 169,\n",
       " 'annees': 170,\n",
       " 'socle': 171,\n",
       " 'theatral': 172,\n",
       " 'semble': 173,\n",
       " 'rattacher': 174,\n",
       " 'indeniablement': 175,\n",
       " 'poursuite': 176,\n",
       " 'diamant': 177,\n",
       " 'vers': 178,\n",
       " 'profondement': 179,\n",
       " 'ancre': 180,\n",
       " 'titre': 181,\n",
       " 'retour': 182,\n",
       " 'futur': 183,\n",
       " 'realisateur': 184,\n",
       " 'robert': 185,\n",
       " 'zemeckis': 186,\n",
       " 'indiana': 187,\n",
       " 'jones': 188,\n",
       " 'dont': 189,\n",
       " 'marche': 190,\n",
       " 'sur': 191,\n",
       " 'gremlins': 192,\n",
       " 'goonies': 193,\n",
       " 'etc': 194,\n",
       " 'cinema': 195,\n",
       " 'populaire': 196,\n",
       " 'entendez': 197,\n",
       " 'fait': 198,\n",
       " 'entrees': 199,\n",
       " 'salles': 200,\n",
       " 'tres': 201,\n",
       " 'divertissant': 202,\n",
       " 'besoin': 203,\n",
       " 'elabore': 204,\n",
       " 'prenez': 205,\n",
       " 'romanciere': 206,\n",
       " 'celibataire': 207,\n",
       " 'endurcie': 208,\n",
       " 'vit': 209,\n",
       " 'chat': 210,\n",
       " 'doit': 211,\n",
       " 'apporter': 212,\n",
       " 'carte': 213,\n",
       " 'tresor': 214,\n",
       " 'mechants': 215,\n",
       " 'colombiens': 216,\n",
       " 'ont': 217,\n",
       " 'kidnappe': 218,\n",
       " 'soeur': 219,\n",
       " 'chemin': 220,\n",
       " 'faisant': 221,\n",
       " 'elle': 222,\n",
       " 'va': 223,\n",
       " 'rencontrer': 224,\n",
       " 'aventurier': 225,\n",
       " 'chercher': 226,\n",
       " 'vert': 227,\n",
       " 'complique': 228,\n",
       " 'on': 229,\n",
       " 'melange': 230,\n",
       " 'scenes': 231,\n",
       " 'travers': 232,\n",
       " 'jungle': 233,\n",
       " 'colombienne': 234,\n",
       " 'bons': 235,\n",
       " 'sentiments': 236,\n",
       " 'tout': 237,\n",
       " 'monde': 238,\n",
       " 'y': 239,\n",
       " 'trouve': 240,\n",
       " 'compte': 241,\n",
       " 'n': 242,\n",
       " 'qu': 243,\n",
       " 'piocher': 244,\n",
       " 'deja': 245,\n",
       " 'excellent': 246,\n",
       " 'conteur': 247,\n",
       " 'dure': 248,\n",
       " 'passe': 249,\n",
       " 'vite': 250,\n",
       " 'entierement': 251,\n",
       " 'produit': 252,\n",
       " 'michael': 253,\n",
       " 'douglas': 254,\n",
       " 'ete': 255,\n",
       " 'gros': 256,\n",
       " 'succes': 257,\n",
       " 'millions': 258,\n",
       " 'dollars': 259,\n",
       " 'budget': 260,\n",
       " 'rapportera': 261,\n",
       " 'merite': 262,\n",
       " 'face': 263,\n",
       " 'bonnes': 264,\n",
       " 'critiques': 265,\n",
       " 'honnorent': 266,\n",
       " 'contenterais': 267,\n",
       " 'mien': 268,\n",
       " 'simplement': 269,\n",
       " 'beaucoup': 270,\n",
       " 'hesite': 271,\n",
       " 'aller': 272,\n",
       " 'car': 273,\n",
       " 'ne': 274,\n",
       " 'suis': 275,\n",
       " 'grand': 276,\n",
       " 'admirateur': 277,\n",
       " 'westerns': 278,\n",
       " 'general': 279,\n",
       " 'j': 280,\n",
       " 'alle': 281,\n",
       " 'qie': 282,\n",
       " 'aurait': 283,\n",
       " 'quelque': 284,\n",
       " 'chose': 285,\n",
       " 'rien': 286,\n",
       " 'sauf': 287,\n",
       " 'performance': 288,\n",
       " 'charismatique': 289,\n",
       " 'principale': 290,\n",
       " 'true': 291,\n",
       " 'grit': 292,\n",
       " 'assez': 293,\n",
       " 'mou': 294,\n",
       " 'avare': 295,\n",
       " 'finalement': 296,\n",
       " 'banal': 297,\n",
       " 'donc': 298,\n",
       " 'depourvu': 299,\n",
       " 'veritable': 300,\n",
       " 'zeste': 301,\n",
       " 'subsiste': 302,\n",
       " 'deplaisant': 303,\n",
       " 'franchement': 304,\n",
       " 'retiens': 305,\n",
       " 'restera': 306,\n",
       " 'mes': 307,\n",
       " 'annales': 308,\n",
       " 'cinematographiques': 309,\n",
       " 'edith': 310,\n",
       " 'angleterre': 311,\n",
       " 'ou': 312,\n",
       " 'soigne': 313,\n",
       " 'mari': 314,\n",
       " 'handicape': 315,\n",
       " 'depuis': 316,\n",
       " 'jour': 317,\n",
       " 'decede': 318,\n",
       " 'temps': 319,\n",
       " 'nancy': 320,\n",
       " 'fille': 321,\n",
       " 'envisage': 322,\n",
       " 'placer': 323,\n",
       " 'mere': 324,\n",
       " 'maison': 325,\n",
       " 'retraite': 326,\n",
       " 'rangeant': 327,\n",
       " 'postale': 328,\n",
       " 'pere': 329,\n",
       " 'parle': 330,\n",
       " 'randonnee': 331,\n",
       " 'ecosse': 332,\n",
       " 'desir': 333,\n",
       " 'escalader': 334,\n",
       " 'mont': 335,\n",
       " 'suilven': 336,\n",
       " 'bagages': 337,\n",
       " 'emporte': 338,\n",
       " 'economies': 339,\n",
       " 'laisse': 340,\n",
       " 'message': 341,\n",
       " 'train': 342,\n",
       " 'jusqu': 343,\n",
       " 'inverness': 344,\n",
       " 'connaissance': 345,\n",
       " 'johny': 346,\n",
       " 'descente': 347,\n",
       " 'simple': 348,\n",
       " 'touchante': 349,\n",
       " 'simon': 350,\n",
       " 'hunter': 351,\n",
       " 'raconte': 352,\n",
       " 'entre': 353,\n",
       " 'dame': 354,\n",
       " 'agee': 355,\n",
       " 'jeune': 356,\n",
       " 'peu': 357,\n",
       " 'moyens': 358,\n",
       " 'malgre': 359,\n",
       " 'fragilite': 360,\n",
       " 'liee': 361,\n",
       " 'apprecie': 362,\n",
       " 'parentheses': 363,\n",
       " 'toute': 364,\n",
       " 'intervention': 365,\n",
       " 'famille': 366,\n",
       " 'maintienne': 367,\n",
       " 'liberte': 368,\n",
       " 'realiser': 369,\n",
       " 'prendre': 370,\n",
       " 'revanche': 371,\n",
       " 'vie': 372,\n",
       " 'sacrifices': 373,\n",
       " 'paysages': 374,\n",
       " 'magnifiques': 375,\n",
       " 'surcroit': 376,\n",
       " 'mon': 377,\n",
       " 'blog': 378,\n",
       " 'peplum': 379,\n",
       " 'aborde': 380,\n",
       " 'bataille': 381,\n",
       " 'thermopyles': 382,\n",
       " 'opposant': 383,\n",
       " 'perses': 384,\n",
       " 'spartiates': 385,\n",
       " 'sous': 386,\n",
       " 'angle': 387,\n",
       " 'vue': 388,\n",
       " 'etonnant': 389,\n",
       " 'inedit': 390,\n",
       " 'vaut': 391,\n",
       " 'surtout': 392,\n",
       " 'esthetique': 393,\n",
       " 'superbe': 394,\n",
       " 'stylisee': 395,\n",
       " 'soignee': 396,\n",
       " 'restitue': 397,\n",
       " 'admirablement': 398,\n",
       " 'bande': 399,\n",
       " 'dessinee': 400,\n",
       " 'frank': 401,\n",
       " 'miller': 402,\n",
       " 'sequences': 403,\n",
       " 'combat': 404,\n",
       " 'spectaculaires': 405,\n",
       " 'nous': 406,\n",
       " 'immergent': 407,\n",
       " 'violence': 408,\n",
       " 'barbarie': 409,\n",
       " 'sont': 410,\n",
       " 'magnifiees': 411,\n",
       " 'nombreux': 412,\n",
       " 'parfaits': 413,\n",
       " 'ralentis': 414,\n",
       " 'impressionnant': 415,\n",
       " 'conte': 416,\n",
       " 'epique': 417,\n",
       " 'emprunte': 418,\n",
       " 'apportant': 419,\n",
       " 'vision': 420,\n",
       " 'fantastique': 421,\n",
       " 'sommes': 422,\n",
       " 'classique': 423,\n",
       " 'sans': 424,\n",
       " 'aucune': 425,\n",
       " 'surprise': 426,\n",
       " 'trop': 427,\n",
       " 'rythme': 428,\n",
       " 'plutot': 429,\n",
       " 'inegal': 430,\n",
       " 'originale': 431,\n",
       " 'captivante': 432,\n",
       " 'longueurs': 433,\n",
       " 'finir': 434,\n",
       " 'probablement': 435,\n",
       " 'tournee': 436,\n",
       " 'mode': 437,\n",
       " 'vitesse': 438,\n",
       " 'rapide': 439,\n",
       " 'serie': 440,\n",
       " 'b': 441,\n",
       " 'avoir': 442,\n",
       " 'deux': 443,\n",
       " 'raisons': 444,\n",
       " 'propagande': 445,\n",
       " 'offrir': 446,\n",
       " 'role': 447,\n",
       " 'james': 448,\n",
       " 'cagney': 449,\n",
       " 'certes': 450,\n",
       " 'version': 451,\n",
       " 'calamiteuse': 452,\n",
       " 'brouillonne': 453,\n",
       " 'decor': 454,\n",
       " 'carton': 455,\n",
       " 'facon': 456,\n",
       " 'noye': 457,\n",
       " 'nuit': 458,\n",
       " 'permanente': 459,\n",
       " 'photo': 460,\n",
       " 'tristounette': 461,\n",
       " 'oeuvre': 462,\n",
       " 'assassine': 463,\n",
       " 'bagarres': 464,\n",
       " 'ridicules': 465,\n",
       " 'journaliste': 466,\n",
       " 'americain': 467,\n",
       " 'etale': 468,\n",
       " 'tous': 469,\n",
       " 'japonais': 470,\n",
       " 'passent': 471,\n",
       " 'portee': 472,\n",
       " 'judo': 473,\n",
       " 'pu': 474,\n",
       " 'etre': 475,\n",
       " 'belle': 476,\n",
       " 'massacree': 477,\n",
       " 'intrigue': 478,\n",
       " 'totalement': 479,\n",
       " 'ininteressante': 480,\n",
       " 'vf': 481,\n",
       " 'font': 482,\n",
       " 'ma': 483,\n",
       " 'deuxieme': 484,\n",
       " 'etoile': 485,\n",
       " 'benefice': 486,\n",
       " 'doute': 487,\n",
       " 'quelques': 488,\n",
       " 'reflexions': 489,\n",
       " 'intelligentes': 490,\n",
       " 'manipulations': 491,\n",
       " 'longueur': 492,\n",
       " 'vous': 493,\n",
       " 'etes': 494,\n",
       " 'quete': 495,\n",
       " 'dehors': 496,\n",
       " 'longues': 497,\n",
       " 'tirades': 498,\n",
       " 'vice': 499,\n",
       " 'president': 500,\n",
       " 'petite': 501,\n",
       " 'quoi': 502,\n",
       " 'tirez': 503,\n",
       " 'votre': 504,\n",
       " 'torpeur': 505,\n",
       " 'pire': 506,\n",
       " 'sommeil': 507,\n",
       " 'submerge': 508,\n",
       " 'time': 509,\n",
       " 'for': 510,\n",
       " 'dying': 511,\n",
       " 'dernier': 512,\n",
       " 'murphy': 513,\n",
       " 'western': 514,\n",
       " 'realise': 515,\n",
       " 'boettitcher': 516,\n",
       " 'image': 517,\n",
       " 'mauvaise': 518,\n",
       " 'tele': 519,\n",
       " 'pourtant': 520,\n",
       " 'signee': 521,\n",
       " 'lucien': 522,\n",
       " 'ballard': 523,\n",
       " 'musique': 524,\n",
       " 'ridicule': 525,\n",
       " 'mediocrite': 526,\n",
       " 'rare': 527,\n",
       " 'illustrations': 528,\n",
       " 'part': 529,\n",
       " 'dialogues': 530,\n",
       " 'insignifiants': 531,\n",
       " 'rendant': 532,\n",
       " 'inutilement': 533,\n",
       " 'bavard': 534,\n",
       " 'ramasse': 535,\n",
       " 'minutes': 536,\n",
       " 'rapidement': 537,\n",
       " 'entrecoupe': 538,\n",
       " 'fulgurances': 539,\n",
       " 'juge': 540,\n",
       " 'roy': 541,\n",
       " 'bean': 542,\n",
       " 'pendaison': 543,\n",
       " 'suit': 544,\n",
       " 'rencontre': 545,\n",
       " 'jesse': 546,\n",
       " 'audie': 547,\n",
       " 'porte': 548,\n",
       " 'eminents': 549,\n",
       " 'tenants': 550,\n",
       " 'derriere': 551,\n",
       " 'apprenti': 552,\n",
       " 'sorciere': 553,\n",
       " 'cache': 554,\n",
       " 'evidence': 555,\n",
       " 'public': 556,\n",
       " 'bibi': 557,\n",
       " 'blocksberg': 558,\n",
       " 'navet': 559,\n",
       " 'adultes': 560,\n",
       " 'chef': 561,\n",
       " 'enfants': 562,\n",
       " 'ambiance': 563,\n",
       " 'harry': 564,\n",
       " 'potter': 565,\n",
       " 'sauce': 566,\n",
       " 'gentillette': 567,\n",
       " 'tourne': 568,\n",
       " 'autour': 569,\n",
       " 'ordinaire': 570,\n",
       " 'annonce': 571,\n",
       " 'couleur': 572,\n",
       " 'desastre': 573,\n",
       " 'retentissent': 574,\n",
       " 'grotesques': 575,\n",
       " 'chansonnettes': 576,\n",
       " 'disney': 577,\n",
       " 'mettant': 578,\n",
       " 'ko': 579,\n",
       " 'debout': 580,\n",
       " 'marmaille': 581,\n",
       " 'chante': 582,\n",
       " 'danse': 583,\n",
       " 'devant': 584,\n",
       " 'credible': 585,\n",
       " 'captivant': 586,\n",
       " 'eviter': 587,\n",
       " 'grandiose': 588,\n",
       " 'hauteur': 589,\n",
       " 'projet': 590,\n",
       " 'ambitieux': 591,\n",
       " 'rogier': 592,\n",
       " 'stoffers': 593,\n",
       " 'enchantement': 594,\n",
       " 'continu': 595,\n",
       " 'forme': 596,\n",
       " 'gothique': 597,\n",
       " 'fascine': 598,\n",
       " 'derniere': 599,\n",
       " 'saisissante': 600,\n",
       " 'tentait': 601,\n",
       " 'ranimer': 602,\n",
       " 'flamme': 603,\n",
       " 'triomphe': 604,\n",
       " 'mondial': 605,\n",
       " 'gladiator': 606,\n",
       " 'troie': 607,\n",
       " 'adapte': 608,\n",
       " 'respectant': 609,\n",
       " 'globalement': 610,\n",
       " 'humaine': 611,\n",
       " 'evacuant': 612,\n",
       " 'element': 613,\n",
       " 'notamment': 614,\n",
       " 'interventions': 615,\n",
       " 'divines': 616,\n",
       " 'jugees': 617,\n",
       " 'inappropriees': 618,\n",
       " 'contemporain': 619,\n",
       " 'resulte': 620,\n",
       " 'etrange': 621,\n",
       " 'tente': 622,\n",
       " 'representer': 623,\n",
       " 'maniere': 624,\n",
       " 'plausible': 625,\n",
       " 'epopee': 626,\n",
       " 'sait': 627,\n",
       " 'releve': 628,\n",
       " 'pur': 629,\n",
       " 'mythe': 630,\n",
       " 'phenomene': 631,\n",
       " 'historique': 632,\n",
       " 'combats': 633,\n",
       " 'importe': 634,\n",
       " 'puisque': 635,\n",
       " 'realite': 636,\n",
       " 'poeme': 637,\n",
       " 'remettre': 638,\n",
       " 'fortement': 639,\n",
       " 'question': 640,\n",
       " 'wolfgang': 641,\n",
       " 'petersen': 642,\n",
       " 'livre': 643,\n",
       " 'spectacle': 644,\n",
       " 'valeureux': 645,\n",
       " 'batailles': 646,\n",
       " 'belles': 647,\n",
       " 'choregraphiees': 648,\n",
       " 'jamais': 649,\n",
       " 'elements': 650,\n",
       " 'humains': 651,\n",
       " 'destinees': 652,\n",
       " 'personnages': 653,\n",
       " 'interprete': 654,\n",
       " 'pointures': 655,\n",
       " 'durant': 656,\n",
       " 'carre': 657,\n",
       " 'manque': 658,\n",
       " 'folie': 659,\n",
       " 'presenter': 660,\n",
       " 'trahir': 661,\n",
       " 'exception': 662,\n",
       " 'dieux': 663,\n",
       " 'purement': 664,\n",
       " 'ecartes': 665,\n",
       " 'recit': 666,\n",
       " 'ici': 667,\n",
       " 'sort': 668,\n",
       " 'lot': 669,\n",
       " 'ovni': 670,\n",
       " 'cine': 671,\n",
       " 'melo': 672,\n",
       " 'policier': 673,\n",
       " 'saugrenu': 674,\n",
       " 'erotisme': 675,\n",
       " 'desuet': 676,\n",
       " 'onirisme': 677,\n",
       " 'poesie': 678,\n",
       " 'clinquant': 679,\n",
       " 'excessifs': 680,\n",
       " 'toc': 681,\n",
       " 'assume': 682,\n",
       " 'constitue': 683,\n",
       " 'experience': 684,\n",
       " 'interessante': 685,\n",
       " 'vanessa': 686,\n",
       " 'paradis': 687,\n",
       " 'sublime': 688,\n",
       " 'desarroi': 689,\n",
       " 'amoureux': 690,\n",
       " 'restez': 691,\n",
       " 'generique': 692,\n",
       " 'cela': 693,\n",
       " 'ponctue': 694,\n",
       " 'projection': 695,\n",
       " 'images': 696,\n",
       " 'long': 697,\n",
       " 'pic': 698,\n",
       " 'dante': 699,\n",
       " 'bouffe': 700,\n",
       " 'catastrophes': 701,\n",
       " 'nineties': 702,\n",
       " 'es': 703,\n",
       " 'recurrents': 704,\n",
       " 'type': 705,\n",
       " 'trou': 706,\n",
       " 'cul': 707,\n",
       " 'fifre': 708,\n",
       " 'professeur': 709,\n",
       " 'claque': 710,\n",
       " 'blagues': 711,\n",
       " 'enfan': 712,\n",
       " 'ts': 713,\n",
       " 'heros': 714,\n",
       " 'conduisent': 715,\n",
       " 'regarder': 716,\n",
       " 'quand': 717,\n",
       " 'tu': 718,\n",
       " 'vas': 719,\n",
       " 'chiotte': 720,\n",
       " 'sais': 721,\n",
       " 'divertissement': 722,\n",
       " 'oscille': 723,\n",
       " 'exacerbee': 724,\n",
       " 'puerile': 725,\n",
       " 'effets': 726,\n",
       " 'speciaux': 727,\n",
       " 'bacles': 728,\n",
       " 'acteurs': 729,\n",
       " 'credibles': 730,\n",
       " 'cependant': 731,\n",
       " 'decors': 732,\n",
       " 'honorables': 733,\n",
       " 'colle': 734,\n",
       " 'generalement': 735,\n",
       " 'premier': 736,\n",
       " 'defendre': 737,\n",
       " 'cassavetes': 738,\n",
       " 'ideologiquement': 739,\n",
       " 'repere': 740,\n",
       " 'conception': 741,\n",
       " 'spontaneite': 742,\n",
       " 'naturel': 743,\n",
       " 'filme': 744,\n",
       " 'gens': 745,\n",
       " 'soit': 746,\n",
       " 'banale': 747,\n",
       " 'dramaturgie': 748,\n",
       " 'diapason': 749,\n",
       " 'humain': 750,\n",
       " 'gloria': 751,\n",
       " 'm': 752,\n",
       " 'emu': 753,\n",
       " 'loin': 754,\n",
       " 'independants': 755,\n",
       " 'cantonne': 756,\n",
       " 'road': 757,\n",
       " 'movie': 758,\n",
       " 'convenu': 759,\n",
       " 'terriblement': 760,\n",
       " 'caricaturaux': 761,\n",
       " 'hommes': 762,\n",
       " 'intentions': 763,\n",
       " 'scrupuleuses': 764,\n",
       " 'exercant': 765,\n",
       " 'malignite': 766,\n",
       " 'tombee': 767,\n",
       " 'mauvais': 768,\n",
       " 'endroit': 769,\n",
       " 'moment': 770,\n",
       " 'fuir': 771,\n",
       " 'aider': 772,\n",
       " 'gosse': 773,\n",
       " 'convaincu': 774,\n",
       " 'jean': 775,\n",
       " 'girault': 776,\n",
       " 'inspire': 777,\n",
       " 'fais': 778,\n",
       " 'cas': 779,\n",
       " 'denouement': 780,\n",
       " 'banalite': 781,\n",
       " 'confondante': 782,\n",
       " 'courant': 783,\n",
       " 'deception': 784,\n",
       " 'seule': 785,\n",
       " 'eue': 786,\n",
       " 'reserver': 787,\n",
       " 'amateurs': 788,\n",
       " 'bikers': 789,\n",
       " 'gays': 790,\n",
       " 'fleur': 791,\n",
       " 'donnant': 792,\n",
       " 'mal': 793,\n",
       " 'fou': 794,\n",
       " 'rendre': 795,\n",
       " 'village': 796,\n",
       " 'people': 797,\n",
       " 'autres': 798,\n",
       " 'preferez': 799,\n",
       " 'sons': 800,\n",
       " 'of': 801,\n",
       " 'anarchy': 802,\n",
       " 'realiste': 803,\n",
       " 'plonger': 804,\n",
       " 'quotidien': 805,\n",
       " 'jeunes': 806,\n",
       " 'ados': 807,\n",
       " 'abandonne': 808,\n",
       " 'monologues': 809,\n",
       " 'allemand': 810,\n",
       " 'ressentis': 811,\n",
       " 'france': 812,\n",
       " 'ennuyeux': 813,\n",
       " 'narrateur': 814,\n",
       " 'decrire': 815,\n",
       " 'visibles': 816,\n",
       " 'ajoute': 817,\n",
       " 'voix': 818,\n",
       " 'discussion': 819,\n",
       " 'possible': 820,\n",
       " 'niece': 821,\n",
       " 'partie': 822,\n",
       " 'heure': 823,\n",
       " 'ils': 824,\n",
       " 'assis': 825,\n",
       " 'fume': 826,\n",
       " 'pipe': 827,\n",
       " 'coud': 828,\n",
       " 'silence': 829,\n",
       " 'pesant': 830,\n",
       " 'omnipresent': 831,\n",
       " 'coupe': 832,\n",
       " 'heureusement': 833,\n",
       " 'interet': 834,\n",
       " 'sein': 835,\n",
       " 'fade': 836,\n",
       " 'juste': 837,\n",
       " 'nichons': 838,\n",
       " 'amber': 839,\n",
       " 'heard': 840,\n",
       " 'sacre': 841,\n",
       " 'veinard': 842,\n",
       " 'johnny': 843,\n",
       " 'depp': 844,\n",
       " 'semblent': 845,\n",
       " 'authentiques': 846,\n",
       " 'champion': 847,\n",
       " 'lesquels': 848,\n",
       " 'dit': 849,\n",
       " 'vu': 850,\n",
       " 'revu': 851,\n",
       " 'petit': 852,\n",
       " 'familial': 853,\n",
       " 'moralisateur': 854,\n",
       " 'reste': 855,\n",
       " 'scotche': 856,\n",
       " 'fan': 857,\n",
       " 'tellement': 858,\n",
       " 'montree': 859,\n",
       " 'jouee': 860,\n",
       " 'roule': 861,\n",
       " 'parfaitement': 862,\n",
       " 'vrai': 863,\n",
       " 'parfois': 864,\n",
       " 'leger': 865,\n",
       " 'surprises': 866,\n",
       " 'touchant': 867,\n",
       " 'profond': 868,\n",
       " 'vole': 869,\n",
       " 'trois': 870,\n",
       " 'etoiles': 871,\n",
       " 'salle': 872,\n",
       " 'siege': 873,\n",
       " 'incroyable': 874,\n",
       " 'femmes': 875,\n",
       " 'marquee': 876,\n",
       " 'style': 877,\n",
       " 'entendu': 878,\n",
       " 'present': 879,\n",
       " 'absolument': 880,\n",
       " 'parfait': 881,\n",
       " 'entrainant': 882,\n",
       " 'haletante': 883,\n",
       " 'parvient': 884,\n",
       " 'tenir': 885,\n",
       " 'haleine': 886,\n",
       " 'grace': 887,\n",
       " 'interpretation': 888,\n",
       " 'epoustouflante': 889,\n",
       " 'wilson': 890,\n",
       " 'pret': 891,\n",
       " 'pierce': 892,\n",
       " 'brosnan': 893,\n",
       " 'courageux': 894,\n",
       " 'rentree': 895,\n",
       " 'cinematographique': 896,\n",
       " 'promet': 897,\n",
       " 'choses': 898,\n",
       " 'the': 899,\n",
       " 'mask': 900,\n",
       " 'jim': 901,\n",
       " 'carrey': 902,\n",
       " 'cameron': 903,\n",
       " 'diaz': 904,\n",
       " 'calmee': 905,\n",
       " 'cartons': 906,\n",
       " 'enchainer': 907,\n",
       " 'ace': 908,\n",
       " 'ventura': 909,\n",
       " 'dumb': 910,\n",
       " 'and': 911,\n",
       " 'dumber': 912,\n",
       " 'batman': 913,\n",
       " 'forever': 914,\n",
       " 'menteur': 915,\n",
       " 'creve': 916,\n",
       " 'peau': 917,\n",
       " 'stanley': 918,\n",
       " 'ipkiss': 919,\n",
       " 'timide': 920,\n",
       " 'employe': 921,\n",
       " 'banque': 922,\n",
       " 'hasard': 923,\n",
       " 'decouvre': 924,\n",
       " 'masque': 925,\n",
       " 'visage': 926,\n",
       " 'deviendra': 927,\n",
       " 'dejante': 928,\n",
       " 'lui': 929,\n",
       " 'permettra': 930,\n",
       " 'seduire': 931,\n",
       " 'facilement': 932,\n",
       " 'ravissante': 933,\n",
       " 'tina': 934,\n",
       " 'gesticulations': 935,\n",
       " 'grimaces': 936,\n",
       " 'service': 937,\n",
       " 'signes': 938,\n",
       " 'ilm': 939,\n",
       " 'vieilli': 940,\n",
       " 'deviendront': 941,\n",
       " 'marque': 942,\n",
       " 'fabrique': 943,\n",
       " 'difficile': 944,\n",
       " 'qualifier': 945,\n",
       " 'oscillant': 946,\n",
       " 'musicale': 947,\n",
       " 'serait': 948,\n",
       " 'cartoon': 949,\n",
       " 'tex': 950,\n",
       " 'avery': 951,\n",
       " 'clins': 952,\n",
       " 'partout': 953,\n",
       " 'mimiques': 954,\n",
       " 'splendiiiiiiide': 955,\n",
       " 'dirais': 956,\n",
       " 'volontiers': 957,\n",
       " 'fond': 958,\n",
       " 'essentiel': 959,\n",
       " 'su': 960,\n",
       " 'affirmer': 961,\n",
       " 'point': 962,\n",
       " 'politique': 963,\n",
       " 'bouger': 964,\n",
       " 'tunisie': 965,\n",
       " 'seulement': 966,\n",
       " 'pays': 967,\n",
       " 'sentiront': 968,\n",
       " 'concerner': 969,\n",
       " 'pense': 970,\n",
       " 'pouvait': 971,\n",
       " 'piece': 972,\n",
       " 'theatre': 973,\n",
       " 'ecrit': 974,\n",
       " 'sartre': 975,\n",
       " 'pourquoi': 976,\n",
       " 'descendant': 977,\n",
       " 'chapeau': 978,\n",
       " 'habilement': 979,\n",
       " 'decoupee': 980,\n",
       " 'episodes': 981,\n",
       " 'oppressante': 982,\n",
       " 'justes': 983,\n",
       " 'emouvants': 984,\n",
       " 'politiques': 985,\n",
       " 'twist': 986,\n",
       " 'important': 987,\n",
       " 'regret': 988,\n",
       " 'detourner': 989,\n",
       " 'tel': 990,\n",
       " 'esthetisme': 991,\n",
       " 'incongru': 992,\n",
       " 'deviant': 993,\n",
       " 'discours': 994,\n",
       " 'technique': 995,\n",
       " 'presque': 996,\n",
       " 'qualite': 997,\n",
       " 'photographique': 998,\n",
       " 'effet': 999,\n",
       " 'erreur': 1000,\n",
       " ...}"
      ]
     },
     "execution_count": 146,
     "metadata": {},
     "output_type": "execute_result"
    }
   ],
   "source": [
    "!curl \"https://wagon-public-datasets.s3.amazonaws.com/certification/movies_reviews/movies_reviews_word_to_integer.pickle\" --output \"data/word_to_integer.pickle\"\n",
    "import pickle\n",
    "\n",
    "with open('data/word_to_integer.pickle', 'rb') as handle:\n",
    "    word_to_id = pickle.load(handle)\n",
    "\n",
    "word_to_id"
   ]
  },
  {
   "cell_type": "markdown",
   "metadata": {},
   "source": [
    "Finally, we holdout for you a test set"
   ]
  },
  {
   "cell_type": "code",
   "execution_count": 147,
   "metadata": {
    "ExecuteTime": {
     "end_time": "2021-09-10T13:10:50.759447Z",
     "start_time": "2021-09-10T13:10:50.753972Z"
    }
   },
   "outputs": [
    {
     "name": "stdout",
     "output_type": "stream",
     "text": [
      "(20966, 100) (20966,) (8985, 100) (8985,)\n"
     ]
    }
   ],
   "source": [
    "idx_split = round(len(X_preproc)*0.7)\n",
    "\n",
    "X_train = X_preproc[0:idx_split]\n",
    "y_train = y[0:idx_split]\n",
    "X_test = X_preproc[idx_split:]\n",
    "y_test = y[idx_split:]\n",
    "\n",
    "print(X_train.shape, y_train.shape, X_test.shape, y_test.shape)"
   ]
  },
  {
   "cell_type": "markdown",
   "metadata": {},
   "source": [
    "### 2.2 Modeling Sentiment Score"
   ]
  },
  {
   "cell_type": "markdown",
   "metadata": {},
   "source": [
    "❓ **Before training a complex model, evaluate your baseline score**\n",
    "- We will use the _accuracy_ as performance metric in this challenge\n",
    "- What would be your baseline score?\n",
    "- Store the result under `score_baseline`"
   ]
  },
  {
   "cell_type": "code",
   "execution_count": 148,
   "metadata": {
    "ExecuteTime": {
     "end_time": "2021-09-10T13:23:32.295429Z",
     "start_time": "2021-09-10T13:23:32.280826Z"
    },
    "tags": [
     "challengify"
    ]
   },
   "outputs": [
    {
     "data": {
      "text/plain": [
       "0.5008347245409015"
      ]
     },
     "execution_count": 148,
     "metadata": {},
     "output_type": "execute_result"
    }
   ],
   "source": [
    "from collections import Counter\n",
    "from sklearn.metrics import accuracy_score\n",
    "# YOUR CODE HERE\n",
    "most_common_class = Counter(y_train).most_common(1)[0][0]\n",
    "\n",
    "# List to store the predictions\n",
    "preds = []\n",
    "\n",
    "# Predict the most common class in the test set\n",
    "for i in range(len(y_test)):\n",
    "  preds.append(most_common_class)\n",
    "\n",
    "score_baseline = accuracy_score(y_test, preds)\n",
    "score_baseline"
   ]
  },
  {
   "cell_type": "markdown",
   "metadata": {},
   "source": [
    "❓ **Build and fit a neural network**\n",
    "\n",
    "- Name it `model`\n",
    "- Store output of `.fit()` in a variable `history`\n",
    "- You **cannot** use transfer learning nor any other pre-trained models\n",
    "- You must use a **Recurrent** architecture to _capture_ a notion of order in the sentences' words\n",
    "- Make sure your model does not overfit with appropriate control techniques\n",
    "- You don't need to cross-validate your model. Simply hold-out a validation set as you see fit\n",
    "- Manage wisely your training time\n",
    "\n",
    "💡 You will not be judged by the computing power of your computer, but you should obtain significantly better performance than the baseline in less than 5 minutes without GPUs"
   ]
  },
  {
   "cell_type": "code",
   "execution_count": 152,
   "metadata": {
    "ExecuteTime": {
     "end_time": "2021-09-10T13:28:44.426578Z",
     "start_time": "2021-09-10T13:28:44.415591Z"
    },
    "executionInfo": {
     "elapsed": 663,
     "status": "ok",
     "timestamp": 1615315437343,
     "user": {
      "displayName": "Bruno Lajoie",
      "photoUrl": "https://lh3.googleusercontent.com/a-/AOh14Gg0dl6gThG8gOPbCvHbgt62zQnsi8cgbQ7C5HkD_Cg=s64",
      "userId": "15793030209206844069"
     },
     "user_tz": -60
    },
    "id": "itw-cgT2Mjvl",
    "tags": [
     "challengify"
    ]
   },
   "outputs": [
    {
     "data": {
      "text/plain": [
       "62379"
      ]
     },
     "execution_count": 152,
     "metadata": {},
     "output_type": "execute_result"
    }
   ],
   "source": [
    "# YOUR CODE HERE\n",
    "vocab_size = X_preproc.max()\n",
    "vocab_size"
   ]
  },
  {
   "cell_type": "code",
   "execution_count": 171,
   "metadata": {},
   "outputs": [
    {
     "name": "stdout",
     "output_type": "stream",
     "text": [
      "Model: \"sequential_7\"\n",
      "_________________________________________________________________\n",
      " Layer (type)                Output Shape              Param #   \n",
      "=================================================================\n",
      " embedding_4 (Embedding)     (None, None, 100)         6238000   \n",
      "                                                                 \n",
      " lstm_5 (LSTM)               (None, None, 50)          30200     \n",
      "                                                                 \n",
      " lstm_6 (LSTM)               (None, 50)                20200     \n",
      "                                                                 \n",
      " dense_11 (Dense)            (None, 10)                510       \n",
      "                                                                 \n",
      " dense_12 (Dense)            (None, 1)                 11        \n",
      "                                                                 \n",
      "=================================================================\n",
      "Total params: 6,288,921\n",
      "Trainable params: 6,288,921\n",
      "Non-trainable params: 0\n",
      "_________________________________________________________________\n"
     ]
    }
   ],
   "source": [
    "from keras.layers import Embedding, LSTM, Dense, Dropout\n",
    "\n",
    "model = models.Sequential()\n",
    "\n",
    "model.add(layers.Embedding(input_dim=62379+1, output_dim=100, mask_zero=True))\n",
    "model.add(layers.LSTM(50, return_sequences=True))\n",
    "model.add(layers.LSTM(50))\n",
    "model.add(layers.Dense(10, activation='relu'))\n",
    "model.add(layers.Dense(1, activation='sigmoid'))\n",
    "\n",
    "# Compile\n",
    "model.compile(loss='binary_crossentropy', optimizer='adam', metrics=['accuracy'])\n",
    "model.summary()"
   ]
  },
  {
   "cell_type": "code",
   "execution_count": 172,
   "metadata": {},
   "outputs": [
    {
     "name": "stdout",
     "output_type": "stream",
     "text": [
      "Epoch 1/25\n",
      "525/525 [==============================] - 41s 71ms/step - loss: 0.3617 - accuracy: 0.8401 - val_loss: 0.2650 - val_accuracy: 0.8929\n",
      "Epoch 2/25\n",
      "525/525 [==============================] - 36s 68ms/step - loss: 0.1348 - accuracy: 0.9510 - val_loss: 0.2867 - val_accuracy: 0.8813\n",
      "Epoch 3/25\n",
      "525/525 [==============================] - 36s 68ms/step - loss: 0.0704 - accuracy: 0.9747 - val_loss: 0.4848 - val_accuracy: 0.8603\n",
      "Epoch 4/25\n",
      "525/525 [==============================] - 36s 68ms/step - loss: 0.0366 - accuracy: 0.9867 - val_loss: 0.5078 - val_accuracy: 0.8481\n",
      "Epoch 5/25\n",
      "525/525 [==============================] - 36s 68ms/step - loss: 0.0276 - accuracy: 0.9910 - val_loss: 0.6153 - val_accuracy: 0.8672\n"
     ]
    }
   ],
   "source": [
    "es = EarlyStopping(patience = 4, restore_best_weights=True)\n",
    "history = model.fit(\n",
    "    X_train, y_train,\n",
    "    epochs = 25,\n",
    "    batch_size = 32,\n",
    "    validation_split = 0.2,\n",
    "    callbacks=[es]\n",
    ")"
   ]
  },
  {
   "cell_type": "code",
   "execution_count": 173,
   "metadata": {},
   "outputs": [
    {
     "data": {
      "text/plain": [
       "{'loss': [0.36173364520072937,\n",
       "  0.13484331965446472,\n",
       "  0.07035358250141144,\n",
       "  0.036615002900362015,\n",
       "  0.027613185346126556],\n",
       " 'accuracy': [0.8400906324386597,\n",
       "  0.9510493874549866,\n",
       "  0.974719762802124,\n",
       "  0.9867040514945984,\n",
       "  0.9909968972206116],\n",
       " 'val_loss': [0.2649846374988556,\n",
       "  0.28667664527893066,\n",
       "  0.48477423191070557,\n",
       "  0.5077890753746033,\n",
       "  0.6153414845466614],\n",
       " 'val_accuracy': [0.8929423093795776,\n",
       "  0.8812589645385742,\n",
       "  0.8602765798568726,\n",
       "  0.8481163382530212,\n",
       "  0.8671912550926208]}"
      ]
     },
     "execution_count": 173,
     "metadata": {},
     "output_type": "execute_result"
    }
   ],
   "source": [
    "history.history"
   ]
  },
  {
   "cell_type": "markdown",
   "metadata": {},
   "source": [
    "❓ **Plot your training and validation Accuracy at each epoch using the cell below**"
   ]
  },
  {
   "cell_type": "code",
   "execution_count": 174,
   "metadata": {
    "ExecuteTime": {
     "end_time": "2021-09-10T13:29:16.945870Z",
     "start_time": "2021-09-10T13:29:16.930183Z"
    }
   },
   "outputs": [
    {
     "data": {
      "image/png": "[encoded data removed]",
      "text/plain": [
       "<Figure size 640x480 with 1 Axes>"
      ]
     },
     "metadata": {},
     "output_type": "display_data"
    }
   ],
   "source": [
    "# Plot below your train/val loss history\n",
    "# YOUR CODE HERE\n",
    "def plot_loss_rnn(history):\n",
    "    \n",
    "    train_loss = history.history['loss']\n",
    "    val_loss = history.history['val_loss']\n",
    "\n",
    "    plt.plot(train_loss, label='Training LOSS')\n",
    "    plt.plot(val_loss, label='Validation LOSS')\n",
    "    plt.xlabel('Epoch')\n",
    "    plt.ylabel('LOSS')\n",
    "    plt.legend()\n",
    "    \n",
    "### YOUR CODE HERE\n",
    "\n",
    "plot_loss_rnn(history)\n",
    "\n",
    "# Run also this code to save figure as jpg in path below (it's your job to ensure it works)\n",
    "fig = plt.gcf()\n",
    "fig.savefig(\"tests/history_loss_rnn.png\");"
   ]
  },
  {
   "cell_type": "code",
   "execution_count": 175,
   "metadata": {},
   "outputs": [
    {
     "data": {
      "image/png": "[encoded data removed]",
      "text/plain": [
       "<Figure size 640x480 with 1 Axes>"
      ]
     },
     "metadata": {},
     "output_type": "display_data"
    }
   ],
   "source": [
    "# Plot below your train/val MAE history\n",
    "# YOUR CODE HERE\n",
    "def plot_accuracy(history):\n",
    "    train_accuracy = history.history['accuracy']\n",
    "    val_accuracy = history.history['val_accuracy']\n",
    "\n",
    "    plt.plot(train_accuracy, label='Training ACCURACY')\n",
    "    plt.plot(val_accuracy, label='Validation ACCURACY')\n",
    "    plt.xlabel('Epoch')\n",
    "    plt.ylabel('MAE')\n",
    "    plt.legend()\n",
    "    \n",
    "### YOUR CODE HERE\n",
    "\n",
    "plot_accuracy(history)\n",
    "\n",
    "# Run also this code to save figure as jpg in path below (it's your job to ensure it works)\n",
    "fig = plt.gcf()\n",
    "fig.savefig(\"tests/history_accuracy_rnn.png\");"
   ]
  },
  {
   "cell_type": "markdown",
   "metadata": {},
   "source": [
    "❓ **Evaluate your performances on test set**\n",
    "- Store your test score as `score_test`"
   ]
  },
  {
   "cell_type": "code",
   "execution_count": 176,
   "metadata": {
    "ExecuteTime": {
     "end_time": "2021-09-10T13:29:23.269829Z",
     "start_time": "2021-09-10T13:29:21.811565Z"
    },
    "colab": {
     "base_uri": "https://localhost:8080/"
    },
    "executionInfo": {
     "elapsed": 1032,
     "status": "ok",
     "timestamp": 1615231968574,
     "user": {
      "displayName": "Bruno Lajoie",
      "photoUrl": "https://lh3.googleusercontent.com/a-/AOh14Gg0dl6gThG8gOPbCvHbgt62zQnsi8cgbQ7C5HkD_Cg=s64",
      "userId": "15793030209206844069"
     },
     "user_tz": -60
    },
    "id": "RQMpEc4ITdne",
    "outputId": "9a0a5643-6652-4a68-aa86-cd671733ca17",
    "scrolled": true,
    "tags": [
     "challengify"
    ]
   },
   "outputs": [
    {
     "name": "stdout",
     "output_type": "stream",
     "text": [
      "281/281 [==============================] - 4s 13ms/step - loss: 0.2695 - accuracy: 0.8871\n"
     ]
    },
    {
     "data": {
      "text/plain": [
       "0.8871452212333679"
      ]
     },
     "execution_count": 176,
     "metadata": {},
     "output_type": "execute_result"
    }
   ],
   "source": [
    "# YOUR CODE HERE\n",
    "score_test = model.evaluate(X_test, y_test)[1]\n",
    "score_test"
   ]
  },
  {
   "cell_type": "markdown",
   "metadata": {},
   "source": [
    "#### 💾 Save your results\n",
    "\n",
    "Run the cell below to save your results."
   ]
  },
  {
   "cell_type": "code",
   "execution_count": 177,
   "metadata": {
    "ExecuteTime": {
     "end_time": "2021-09-10T13:29:24.294848Z",
     "start_time": "2021-09-10T13:29:24.285490Z"
    }
   },
   "outputs": [],
   "source": [
    "from nbresult import ChallengeResult\n",
    "\n",
    "result = ChallengeResult(\n",
    "    \"rnn\",\n",
    "    input_shape = list(model.input.shape),\n",
    "    output_shape = list(model.output.shape),\n",
    "    layer_names = [layer.name for layer in model.layers],\n",
    "    trainable_params = sum([tf.size(w_matrix).numpy() for w_matrix in model.trainable_variables]),\n",
    "    score_baseline = score_baseline,\n",
    "    score_test = score_test,\n",
    ")\n",
    "result.write()"
   ]
  },
  {
   "cell_type": "code",
   "execution_count": null,
   "metadata": {},
   "outputs": [],
   "source": []
  }
 ],
 "metadata": {
  "accelerator": "GPU",
  "colab": {
   "authorship_tag": "ABX9TyMOYn4GJAg9EKtu1bGhcoI1",
   "collapsed_sections": [],
   "name": "certification_DL_images",
   "provenance": [],
   "toc_visible": true
  },
  "kernelspec": {
   "display_name": "Python 3 (ipykernel)",
   "language": "python",
   "name": "python3"
  },
  "language_info": {
   "codemirror_mode": {
    "name": "ipython",
    "version": 3
   },
   "file_extension": ".py",
   "mimetype": "text/x-python",
   "name": "python",
   "nbconvert_exporter": "python",
   "pygments_lexer": "ipython3",
   "version": "3.10.6"
  },
  "toc": {
   "base_numbering": 1,
   "nav_menu": {},
   "number_sections": false,
   "sideBar": true,
   "skip_h1_title": false,
   "title_cell": "Table of Contents",
   "title_sidebar": "Contents",
   "toc_cell": false,
   "toc_position": {
    "height": "calc(100% - 180px)",
    "left": "10px",
    "top": "150px",
    "width": "336px"
   },
   "toc_section_display": true,
   "toc_window_display": true
  }
 },
 "nbformat": 4,
 "nbformat_minor": 1
}
